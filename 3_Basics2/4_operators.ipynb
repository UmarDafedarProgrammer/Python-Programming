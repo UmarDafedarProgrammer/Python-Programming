{
 "cells": [
  {
   "cell_type": "markdown",
   "id": "f7839841",
   "metadata": {},
   "source": [
    "# Operators\n",
    "\n",
    "## Mathematics Operators\n",
    "1. Addition(+) -> a+b\n",
    "2. Subtraction(-) -> a-b\n",
    "3. Multiplication(*) -> a*b\n",
    "4. Division(/) -> a/b (quotient is Floating value)\n",
    "5. Floor Division(//) -> a//b (quotient is floor integer value)\n",
    "6. Modulus(%) -> a%b (remainder)\n",
    "7. Exponetial(**) -> a\\**b (a to the power b)"
   ]
  },
  {
   "cell_type": "code",
   "execution_count": 18,
   "id": "febc41c2",
   "metadata": {},
   "outputs": [],
   "source": [
    "a = 13\n",
    "b = 6"
   ]
  },
  {
   "cell_type": "code",
   "execution_count": 19,
   "id": "f7c8102b",
   "metadata": {},
   "outputs": [],
   "source": [
    "addition = a+b\n",
    "subtraction = a-b\n",
    "multiplication = a*b\n",
    "division = a/b\n",
    "floor_division = a//b\n",
    "exponential_value = a**b\n",
    "modulus_value = a%b"
   ]
  },
  {
   "cell_type": "code",
   "execution_count": 20,
   "id": "4a745514",
   "metadata": {},
   "outputs": [
    {
     "name": "stdout",
     "output_type": "stream",
     "text": [
      "19\n",
      "7\n",
      "78\n",
      "2.1666666666666665\n",
      "2\n",
      "4826809\n",
      "1\n"
     ]
    }
   ],
   "source": [
    "print(addition)\n",
    "print(subtraction)\n",
    "print(multiplication)\n",
    "print(division)\n",
    "print(floor_division)\n",
    "print(exponential_value)\n",
    "print(modulus_value)"
   ]
  },
  {
   "cell_type": "code",
   "execution_count": 15,
   "id": "49ab8e20",
   "metadata": {},
   "outputs": [
    {
     "data": {
      "text/plain": [
       "1"
      ]
     },
     "execution_count": 15,
     "metadata": {},
     "output_type": "execute_result"
    }
   ],
   "source": [
    "13%6"
   ]
  },
  {
   "cell_type": "markdown",
   "id": "a5fc6a52",
   "metadata": {},
   "source": [
    "# Assignment Operators\n",
    "\n",
    "1. = -> x=y\n",
    "2. += -> x+=y -> x=x+y\n",
    "3. -= -> x-=y -> x=x-y\n",
    "4. *= -> x*=y -> x=x*y\n",
    "5. /= -> x/=y -> x=x/y\n",
    "6. //= -> x//=y -> x=x//y\n",
    "7. %= -> x%=y -> x=x%y\n",
    "8. **= -> x**=y -> x=x**y"
   ]
  },
  {
   "cell_type": "code",
   "execution_count": 32,
   "id": "bcaffa84",
   "metadata": {},
   "outputs": [
    {
     "name": "stdout",
     "output_type": "stream",
     "text": [
      "101 3\n",
      "104 3\n",
      "96 3\n",
      "3072 3\n",
      "614.4 3\n",
      "153.0 3\n",
      "0.0 3\n",
      "9261 3\n"
     ]
    }
   ],
   "source": [
    "x=101\n",
    "y=3\n",
    "\n",
    "print(x,y)\n",
    "\n",
    "x+=y\n",
    "print(x,y)\n",
    "\n",
    "x-=8\n",
    "print(x,y)\n",
    "\n",
    "x*=32\n",
    "print(x,y)\n",
    "\n",
    "x/=5\n",
    "print(x,y)\n",
    "\n",
    "x//=4\n",
    "print(x,y)\n",
    "\n",
    "x%=y\n",
    "print(x,y)\n",
    "\n",
    "x=21\n",
    "x**=y\n",
    "print(x,y)\n",
    "\n"
   ]
  },
  {
   "cell_type": "markdown",
   "id": "f68b6b2c",
   "metadata": {},
   "source": [
    "# Comparison Operators\n",
    "\n",
    "1. ==   : Equivalent\n",
    "2. !=   : not equal to \n",
    "3. \\>   : greate than\n",
    "4. <    : less than\n",
    "5. <=   : less than or equal to\n",
    "6. \\>=  : greater than or equal to\n"
   ]
  },
  {
   "cell_type": "code",
   "execution_count": 37,
   "id": "b49f9311",
   "metadata": {},
   "outputs": [
    {
     "name": "stdout",
     "output_type": "stream",
     "text": [
      "a is less than b\n"
     ]
    }
   ],
   "source": [
    "a = float(input(\"Please eneter the first nummmber: \"))\n",
    "b = float(input(\"Please eneter the second nummmber: \"))\n",
    "\n",
    "if a==b:\n",
    "    print(\"a is equal to b\")\n",
    "\n",
    "if a!=b and a<b:\n",
    "    print(\"a is less than b\")\n",
    "elif a!=b and a>b:\n",
    "    print(\"a is greater than b\")\n",
    "\n",
    "if a==b and a<=b:\n",
    "    print(\"a is less than or equal to b\")\n",
    "\n",
    "if a==b and a>=b:\n",
    "    print(\"a is greater than or equal to b\")\n"
   ]
  },
  {
   "cell_type": "markdown",
   "id": "8c54bfb5",
   "metadata": {},
   "source": [
    "# Logical Operators\n",
    "\n",
    "1. and  -> returns true if both conditions are true (True if both true [True and False → False])\n",
    "2. or -> returns true if one of the condition returns true (True if at least one is true [True or False → True])\n",
    "3. not -> negation operator (inverts value) (Inverts value [not True → False])"
   ]
  },
  {
   "cell_type": "code",
   "execution_count": null,
   "id": "1c05f838",
   "metadata": {},
   "outputs": [
    {
     "name": "stdout",
     "output_type": "stream",
     "text": [
      "True\n"
     ]
    }
   ],
   "source": [
    "x = 30\n",
    "y = 21\n",
    "\n",
    "print((x==30 and y==21))"
   ]
  },
  {
   "cell_type": "code",
   "execution_count": 39,
   "id": "9efaf608",
   "metadata": {},
   "outputs": [
    {
     "name": "stdout",
     "output_type": "stream",
     "text": [
      "True\n"
     ]
    }
   ],
   "source": [
    "print((x==30 or y==30))"
   ]
  },
  {
   "cell_type": "code",
   "execution_count": 40,
   "id": "8661320f",
   "metadata": {},
   "outputs": [
    {
     "name": "stdout",
     "output_type": "stream",
     "text": [
      "False\n"
     ]
    }
   ],
   "source": [
    "print((x==31 or y==30))"
   ]
  },
  {
   "cell_type": "code",
   "execution_count": 41,
   "id": "786ba8f1",
   "metadata": {},
   "outputs": [
    {
     "name": "stdout",
     "output_type": "stream",
     "text": [
      "False\n"
     ]
    }
   ],
   "source": [
    "print((x==30 and y==30))"
   ]
  },
  {
   "cell_type": "code",
   "execution_count": 42,
   "id": "2ee0a2fe",
   "metadata": {},
   "outputs": [
    {
     "name": "stdout",
     "output_type": "stream",
     "text": [
      "False\n"
     ]
    }
   ],
   "source": [
    "print(not(True))"
   ]
  },
  {
   "cell_type": "code",
   "execution_count": 43,
   "id": "13beb75b",
   "metadata": {},
   "outputs": [
    {
     "name": "stdout",
     "output_type": "stream",
     "text": [
      "True\n"
     ]
    }
   ],
   "source": [
    "print(not(False))"
   ]
  },
  {
   "cell_type": "markdown",
   "id": "9d88cea3",
   "metadata": {},
   "source": [
    "# Idnetity Operators\n",
    "\n",
    "1. is -> True if same object\n",
    "2. is not -> True if different object"
   ]
  },
  {
   "cell_type": "code",
   "execution_count": null,
   "id": "c8ebfd5b",
   "metadata": {},
   "outputs": [
    {
     "name": "stdout",
     "output_type": "stream",
     "text": [
      "True\n",
      "False\n",
      "False\n",
      "30 10 30\n"
     ]
    }
   ],
   "source": [
    "x1 = 10\n",
    "y1 = x1\n",
    "x2 =30\n",
    "print(x1 is y1)\n",
    "print(x1 is x2)\n",
    "\n",
    "x1 = 30\n",
    "print(x1 is y1)\n",
    "\n",
    "print(x1, y1, x2)"
   ]
  },
  {
   "cell_type": "code",
   "execution_count": 49,
   "id": "4b262fe8",
   "metadata": {},
   "outputs": [
    {
     "name": "stdout",
     "output_type": "stream",
     "text": [
      "False\n",
      "True\n",
      "True\n",
      "30 10 30\n"
     ]
    }
   ],
   "source": [
    "x1 = 10\n",
    "y1 = x1\n",
    "x2 =30\n",
    "print(x1 is not y1)\n",
    "print(x1 is not x2)\n",
    "\n",
    "x1 = 30\n",
    "print(x1 is not y1)\n",
    "\n",
    "print(x1, y1, x2)"
   ]
  },
  {
   "cell_type": "markdown",
   "id": "618d2dcf",
   "metadata": {},
   "source": [
    "# Membership Operators\n",
    "\n",
    "1. in -> True if found\n",
    "2. not in -> True if not found"
   ]
  },
  {
   "cell_type": "code",
   "execution_count": 51,
   "id": "1eaca446",
   "metadata": {},
   "outputs": [
    {
     "name": "stdout",
     "output_type": "stream",
     "text": [
      "True\n"
     ]
    }
   ],
   "source": [
    "print(\"a\" in \"apple\")"
   ]
  },
  {
   "cell_type": "code",
   "execution_count": 52,
   "id": "6c9ee0de",
   "metadata": {},
   "outputs": [
    {
     "name": "stdout",
     "output_type": "stream",
     "text": [
      "True\n"
     ]
    }
   ],
   "source": [
    "print(1 in [1,2,3,4,5])"
   ]
  },
  {
   "cell_type": "code",
   "execution_count": 53,
   "id": "5c387a26",
   "metadata": {},
   "outputs": [
    {
     "name": "stdout",
     "output_type": "stream",
     "text": [
      "True\n"
     ]
    }
   ],
   "source": [
    "print(1 in range(0,5))"
   ]
  },
  {
   "cell_type": "code",
   "execution_count": 54,
   "id": "99289750",
   "metadata": {},
   "outputs": [
    {
     "name": "stdout",
     "output_type": "stream",
     "text": [
      "False\n"
     ]
    }
   ],
   "source": [
    "print(1 not in [1,23,4,])"
   ]
  },
  {
   "cell_type": "code",
   "execution_count": 55,
   "id": "b66ee0e1",
   "metadata": {},
   "outputs": [
    {
     "name": "stdout",
     "output_type": "stream",
     "text": [
      "True\n"
     ]
    }
   ],
   "source": [
    "print(\"a\" not in \"pple\")"
   ]
  },
  {
   "cell_type": "markdown",
   "id": "5231921d",
   "metadata": {},
   "source": [
    "# Bitwise Operators\n",
    "\n",
    "1. & -> Bitwise AND\n",
    "2. | -> Bitwise OR\n",
    "3. ~ -> NOT\n",
    "4. ^ -> XOR\n",
    "5. << -> LEFT SHIFT \n",
    "6. \\>> -> RIGHT SHIFT"
   ]
  },
  {
   "cell_type": "code",
   "execution_count": 60,
   "id": "dc312e91",
   "metadata": {},
   "outputs": [
    {
     "data": {
      "text/plain": [
       "3"
      ]
     },
     "execution_count": 60,
     "metadata": {},
     "output_type": "execute_result"
    }
   ],
   "source": [
    "1|2"
   ]
  },
  {
   "cell_type": "code",
   "execution_count": 61,
   "id": "7d2a76aa",
   "metadata": {},
   "outputs": [
    {
     "data": {
      "text/plain": [
       "1"
      ]
     },
     "execution_count": 61,
     "metadata": {},
     "output_type": "execute_result"
    }
   ],
   "source": [
    "9&1"
   ]
  },
  {
   "cell_type": "code",
   "execution_count": 65,
   "id": "3d07d445",
   "metadata": {},
   "outputs": [
    {
     "data": {
      "text/plain": [
       "-11"
      ]
     },
     "execution_count": 65,
     "metadata": {},
     "output_type": "execute_result"
    }
   ],
   "source": [
    "~10"
   ]
  },
  {
   "cell_type": "code",
   "execution_count": 66,
   "id": "80e70cfb",
   "metadata": {},
   "outputs": [
    {
     "data": {
      "text/plain": [
       "15"
      ]
     },
     "execution_count": 66,
     "metadata": {},
     "output_type": "execute_result"
    }
   ],
   "source": [
    "10^5"
   ]
  },
  {
   "cell_type": "code",
   "execution_count": 68,
   "id": "e1a075ab",
   "metadata": {},
   "outputs": [
    {
     "data": {
      "text/plain": [
       "20"
      ]
     },
     "execution_count": 68,
     "metadata": {},
     "output_type": "execute_result"
    }
   ],
   "source": [
    "10<<1"
   ]
  },
  {
   "cell_type": "code",
   "execution_count": 69,
   "id": "09e64e6e",
   "metadata": {},
   "outputs": [
    {
     "data": {
      "text/plain": [
       "5"
      ]
     },
     "execution_count": 69,
     "metadata": {},
     "output_type": "execute_result"
    }
   ],
   "source": [
    "10>>1"
   ]
  }
 ],
 "metadata": {
  "kernelspec": {
   "display_name": "virt_env_dev",
   "language": "python",
   "name": "python3"
  },
  "language_info": {
   "codemirror_mode": {
    "name": "ipython",
    "version": 3
   },
   "file_extension": ".py",
   "mimetype": "text/x-python",
   "name": "python",
   "nbconvert_exporter": "python",
   "pygments_lexer": "ipython3",
   "version": "3.11.9"
  }
 },
 "nbformat": 4,
 "nbformat_minor": 5
}
