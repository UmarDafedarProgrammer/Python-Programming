{
 "cells": [
  {
   "cell_type": "markdown",
   "id": "0760a07e",
   "metadata": {},
   "source": [
    "# Control Flow\n",
    "\n",
    "control flow refers to how the program decides what code to run next, based on conditions or repetitions."
   ]
  },
  {
   "cell_type": "markdown",
   "id": "688b4aad",
   "metadata": {},
   "source": [
    "## Conditional Statment\n",
    "\n",
    "1. if: checks if the first condition is true and executes the block of code present in the if block\n",
    "2. elif: Optional, checks additional conditions\n",
    "3. else: Optional, executes if the any of the above conditions does not result in true\n"
   ]
  },
  {
   "cell_type": "code",
   "execution_count": 3,
   "id": "df211e27",
   "metadata": {},
   "outputs": [
    {
     "name": "stdout",
     "output_type": "stream",
     "text": [
      "age is equal to 30\n"
     ]
    }
   ],
   "source": [
    "age = 30\n",
    "\n",
    "if age == 30:\n",
    "    print(\"age is equal to 30\")"
   ]
  },
  {
   "cell_type": "code",
   "execution_count": 10,
   "id": "0572d0b5",
   "metadata": {},
   "outputs": [
    {
     "name": "stdout",
     "output_type": "stream",
     "text": [
      "Person is infant\n"
     ]
    }
   ],
   "source": [
    "age = int(input(\"Please enter the age of the person: \"))\n",
    "if age < 6:\n",
    "    print(\"infant\")\n",
    "elif age>=6 and age<=10:\n",
    "    print(\"Young Kid\")\n",
    "elif age>10 and age <=18:\n",
    "    print(\"Teenager\")\n",
    "else:\n",
    "    print(\"Adult\")"
   ]
  },
  {
   "cell_type": "code",
   "execution_count": 17,
   "id": "ac203a52",
   "metadata": {},
   "outputs": [
    {
     "name": "stdout",
     "output_type": "stream",
     "text": [
      "It is a positive number.\n",
      "It is positive odd number\n"
     ]
    }
   ],
   "source": [
    "#Nested if condition\n",
    "\n",
    "value = int(input(\"Please enter the value to be checked: \"))\n",
    "\n",
    "if value>0:\n",
    "    print(\"It is a positive number.\")\n",
    "\n",
    "    if value%2 == 0:\n",
    "        print(\"It is a positive even number>\")\n",
    "    else:\n",
    "        print(\"It is positive odd number\")\n",
    "elif value == 0:\n",
    "    print(\"It is zero.\")\n",
    "else:\n",
    "    print(\"It is a negative number\")"
   ]
  },
  {
   "cell_type": "code",
   "execution_count": 27,
   "id": "6a64d0d7",
   "metadata": {},
   "outputs": [
    {
     "name": "stdout",
     "output_type": "stream",
     "text": [
      "it is not a leap year\n"
     ]
    }
   ],
   "source": [
    "# Determine if it is a leap year\n",
    "year = int(input(\"Please enter the year: \"))\n",
    "\n",
    "if year%400 == 0:\n",
    "    print(\"It is a leap year.\")\n",
    "elif year%4 == 0:\n",
    "    if year%100 != 0:\n",
    "        print(\"It is a leap year.\")\n",
    "    else:\n",
    "        print(\"It is not a leap year.\") \n",
    "else:\n",
    "    print(\"it is not a leap year\") "
   ]
  },
  {
   "cell_type": "markdown",
   "id": "d62fe38c",
   "metadata": {},
   "source": [
    "# Repeatatio of code using loops\n",
    "\n",
    "1. For \n",
    "2. while\n",
    "\n",
    "#### While Loop\n",
    "📌 Use Case:\n",
    "\n",
    "Use a while loop when you don't know in advance how many times the loop should run.\n",
    "\n",
    "📋 Condition:\n",
    "\n",
    "The loop runs as long as a condition is True. You must define the condition yourself.\n",
    "\n",
    "⚙️ Loop Control:\n",
    "\n",
    "You need to manually update variables (e.g., counters), or the loop might run forever.\n",
    "\n",
    "🔍 Common Usage:\n",
    "\n",
    "Useful when waiting for:\n",
    "A user to enter valid input\n",
    "A file to finish downloading\n",
    "A certain event to happen\n",
    "\n",
    "\n",
    "#### 🔁 for Loop\n",
    "📌 Use Case:\n",
    "\n",
    "Use a for loop when you know how many times you want to run the loop, or when you're looping through a sequence.\n",
    "\n",
    "📋 Condition:\n",
    "\n",
    "A for loop iterates over a sequence (like range(), list, string, etc.).\n",
    "No need to write a condition — Python handles it.\n",
    "\n",
    "⚙️ Loop Control:\n",
    "\n",
    "Python automatically moves to the next item in the sequence — no need to update anything manually.\n",
    "\n",
    "🔍 Common Usage:\n",
    "\n",
    "Great for:\n",
    "Repeating code a set number of times\n",
    "Iterating through elements of a list, tuple, string, etc."
   ]
  },
  {
   "cell_type": "code",
   "execution_count": 30,
   "id": "9f610529",
   "metadata": {},
   "outputs": [
    {
     "name": "stdout",
     "output_type": "stream",
     "text": [
      "a p p l e "
     ]
    }
   ],
   "source": [
    "for i in \"apple\":\n",
    "    print(i,end=' ')"
   ]
  },
  {
   "cell_type": "code",
   "execution_count": 29,
   "id": "172d453a",
   "metadata": {},
   "outputs": [
    {
     "name": "stdout",
     "output_type": "stream",
     "text": [
      "0, 1, 2, 3, 4, "
     ]
    }
   ],
   "source": [
    "for i in range(5):\n",
    "    print(i,end=', ')"
   ]
  },
  {
   "cell_type": "code",
   "execution_count": 32,
   "id": "6e76e09f",
   "metadata": {},
   "outputs": [
    {
     "name": "stdout",
     "output_type": "stream",
     "text": [
      "apple banana "
     ]
    }
   ],
   "source": [
    "for i in \"apple\",'banana':\n",
    "    print(i,end=' ')"
   ]
  },
  {
   "cell_type": "code",
   "execution_count": 33,
   "id": "e9f464fb",
   "metadata": {},
   "outputs": [
    {
     "name": "stdout",
     "output_type": "stream",
     "text": [
      "5 6 7 8 "
     ]
    }
   ],
   "source": [
    "for i in range(5,9):\n",
    "    print(i,end=' ')"
   ]
  },
  {
   "cell_type": "code",
   "execution_count": 34,
   "id": "b51275a7",
   "metadata": {},
   "outputs": [
    {
     "name": "stdout",
     "output_type": "stream",
     "text": [
      "1 6 11 16 21 26 31 36 41 46 51 56 61 66 71 76 81 86 91 96 "
     ]
    }
   ],
   "source": [
    "for i in range(1,100,5):\n",
    "    print(i,end=' ')"
   ]
  },
  {
   "cell_type": "code",
   "execution_count": 35,
   "id": "dc872c06",
   "metadata": {},
   "outputs": [
    {
     "name": "stdout",
     "output_type": "stream",
     "text": [
      "1 2 3 5 6 4 3 7 8 "
     ]
    }
   ],
   "source": [
    "for i in [1,2,3,5,6,4,3,7,8,]:\n",
    "    print(i, end=' ')"
   ]
  },
  {
   "cell_type": "code",
   "execution_count": 37,
   "id": "01ab2ac2",
   "metadata": {},
   "outputs": [
    {
     "name": "stdout",
     "output_type": "stream",
     "text": [
      "1 2 3 45 34 34 1 "
     ]
    }
   ],
   "source": [
    "for i in (1,2,3,45,34,34,1):\n",
    "    print(i, end=' ')"
   ]
  },
  {
   "cell_type": "code",
   "execution_count": 39,
   "id": "10462e23",
   "metadata": {},
   "outputs": [
    {
     "name": "stdout",
     "output_type": "stream",
     "text": [
      "10 15 20 25 30 35 40 45 50 55 60 65 70 75 80 85 90 95 "
     ]
    }
   ],
   "source": [
    "# While loop\n",
    "i=10\n",
    "while i<100:\n",
    "    print(i, end=' ')\n",
    "    i+=5"
   ]
  },
  {
   "cell_type": "markdown",
   "id": "ba405228",
   "metadata": {},
   "source": [
    "#### Loop control statements\n",
    "\n",
    "1. break\n",
    "2. continue\n",
    "3. pass - Placeholder if we do not have statements to be added in the loops\n"
   ]
  },
  {
   "cell_type": "code",
   "execution_count": 43,
   "id": "9080ff25",
   "metadata": {},
   "outputs": [],
   "source": [
    "i = 10\n",
    "\n",
    "while i>5:\n",
    "    if i == 3:\n",
    "        pass\n",
    "    i-=1"
   ]
  },
  {
   "cell_type": "code",
   "execution_count": 45,
   "id": "f72aee0b",
   "metadata": {},
   "outputs": [
    {
     "name": "stdout",
     "output_type": "stream",
     "text": [
      "0 1 2 3 4 5 6 7 8 9 10 "
     ]
    }
   ],
   "source": [
    "for i in range(0,1000,1):\n",
    "    if i>10:\n",
    "        break\n",
    "    print(i, end=' ')"
   ]
  },
  {
   "cell_type": "code",
   "execution_count": null,
   "id": "7d28939b",
   "metadata": {},
   "outputs": [
    {
     "name": "stdout",
     "output_type": "stream",
     "text": [
      "1 2 3 4 5 6 7 8 9 Skipping\n",
      "11 12 13 14 15 16 17 18 19 Skipping\n",
      "21 22 23 24 25 26 27 28 29 Skipping\n",
      "31 32 33 34 35 36 37 38 39 Skipping\n",
      "41 42 43 44 45 46 47 48 49 Skipping\n",
      "51 52 53 54 55 56 57 58 59 Skipping\n",
      "61 62 63 64 65 66 67 68 69 Skipping\n",
      "71 72 73 74 75 76 77 78 79 Skipping\n",
      "81 82 83 84 85 86 87 88 89 Skipping\n",
      "91 92 93 94 95 96 97 98 99 Skipping\n"
     ]
    },
    {
     "ename": "",
     "evalue": "",
     "output_type": "error",
     "traceback": [
      "\u001b[1;31mThe Kernel crashed while executing code in the current cell or a previous cell. \n",
      "\u001b[1;31mPlease review the code in the cell(s) to identify a possible cause of the failure. \n",
      "\u001b[1;31mClick <a href='https://aka.ms/vscodeJupyterKernelCrash'>here</a> for more info. \n",
      "\u001b[1;31mView Jupyter <a href='command:jupyter.viewOutput'>log</a> for further details."
     ]
    }
   ],
   "source": [
    "for i in range(1,101,1):\n",
    "    if i%10==0:\n",
    "        print(\"Skipping\")\n",
    "        continue\n",
    "    print(i, end=' ')"
   ]
  },
  {
   "cell_type": "code",
   "execution_count": null,
   "id": "306298f0",
   "metadata": {},
   "outputs": [],
   "source": []
  },
  {
   "cell_type": "code",
   "execution_count": null,
   "id": "0242857e",
   "metadata": {},
   "outputs": [],
   "source": []
  },
  {
   "cell_type": "code",
   "execution_count": null,
   "id": "e573acc9",
   "metadata": {},
   "outputs": [],
   "source": []
  },
  {
   "cell_type": "code",
   "execution_count": null,
   "id": "e05b4b53",
   "metadata": {},
   "outputs": [],
   "source": []
  },
  {
   "cell_type": "code",
   "execution_count": null,
   "id": "82ac6739",
   "metadata": {},
   "outputs": [],
   "source": []
  },
  {
   "cell_type": "code",
   "execution_count": null,
   "id": "f161cd26",
   "metadata": {},
   "outputs": [],
   "source": []
  }
 ],
 "metadata": {
  "kernelspec": {
   "display_name": "virt_env_dev",
   "language": "python",
   "name": "python3"
  },
  "language_info": {
   "codemirror_mode": {
    "name": "ipython",
    "version": 3
   },
   "file_extension": ".py",
   "mimetype": "text/x-python",
   "name": "python",
   "nbconvert_exporter": "python",
   "pygments_lexer": "ipython3",
   "version": "3.11.9"
  }
 },
 "nbformat": 4,
 "nbformat_minor": 5
}
