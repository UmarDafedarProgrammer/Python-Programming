{
 "cells": [
  {
   "cell_type": "code",
   "execution_count": 1,
   "id": "e36a4bd7",
   "metadata": {},
   "outputs": [
    {
     "name": "stdout",
     "output_type": "stream",
     "text": [
      "Bismillah\n"
     ]
    }
   ],
   "source": [
    "print(\"Bismillah\")"
   ]
  },
  {
   "cell_type": "code",
   "execution_count": 2,
   "id": "e1cbf129",
   "metadata": {},
   "outputs": [
    {
     "name": "stdout",
     "output_type": "stream",
     "text": [
      "Checking if the comment is considered part of the code\n"
     ]
    }
   ],
   "source": [
    "# Single line comment\n",
    "print(\"Checking if the comment is considered part of the code\") #This is also a comment, additional comment"
   ]
  },
  {
   "cell_type": "code",
   "execution_count": 3,
   "id": "267544b5",
   "metadata": {},
   "outputs": [
    {
     "name": "stdout",
     "output_type": "stream",
     "text": [
      "Checking if the multi line comment is considered part of the code\n"
     ]
    }
   ],
   "source": [
    "\"\"\"Multii line comment\"\"\"\n",
    "print(\"Checking if the multi line comment is considered part of the code\")\n"
   ]
  },
  {
   "cell_type": "code",
   "execution_count": 4,
   "id": "1a11a522",
   "metadata": {},
   "outputs": [
    {
     "name": "stdout",
     "output_type": "stream",
     "text": [
      "Checking if the multi line comment with single quotes is considered part of the code\n"
     ]
    }
   ],
   "source": [
    "'''This is also a multi line comment'''\n",
    "print(\"Checking if the multi line comment with single quotes is considered part of the code\")"
   ]
  },
  {
   "cell_type": "code",
   "execution_count": 5,
   "id": "6f7bbb92",
   "metadata": {},
   "outputs": [
    {
     "name": "stdout",
     "output_type": "stream",
     "text": [
      "Hello, World!\n"
     ]
    }
   ],
   "source": [
    "#Syntax Examples\n",
    "print(\"Hello, World!\")\n",
    "a=5+10\n",
    "#Write the code as per the rules of the language"
   ]
  },
  {
   "cell_type": "code",
   "execution_count": 7,
   "id": "b2054c3c",
   "metadata": {},
   "outputs": [],
   "source": [
    "# #Semantics Examples\n",
    "# b=5+\"10\" #TypeError: unsupported operand type(s) for +: 'int' and 'str'\n",
    "# print(b)\n",
    "# #The code is syntactically correct but semantically incorrect as we are trying to add an integer and a string\n",
    "# # --- IGNORE ---\n"
   ]
  },
  {
   "cell_type": "code",
   "execution_count": 8,
   "id": "aa03652c",
   "metadata": {},
   "outputs": [
    {
     "name": "stdout",
     "output_type": "stream",
     "text": [
      "10\n",
      "5\n"
     ]
    }
   ],
   "source": [
    "# Case Sensistivity\n",
    "a=10\n",
    "A=5 #Different variables\n",
    "print(a)\n",
    "print(A)\n",
    "# --- IGNORE ---"
   ]
  },
  {
   "cell_type": "code",
   "execution_count": 9,
   "id": "12df3987",
   "metadata": {},
   "outputs": [
    {
     "name": "stdout",
     "output_type": "stream",
     "text": [
      "a is 10\n",
      "A is 5\n",
      "a+A is 15\n"
     ]
    }
   ],
   "source": [
    "#Indentation\n",
    "if a==10:\n",
    "    print(\"a is 10\")\n",
    "    if A==5:\n",
    "        print(\"A is 5\")\n",
    "        if a+A==15:\n",
    "            print(\"a+A is 15\")\n",
    "# --- IGNORE ---"
   ]
  },
  {
   "cell_type": "code",
   "execution_count": 11,
   "id": "4ecafd48",
   "metadata": {},
   "outputs": [
    {
     "name": "stdout",
     "output_type": "stream",
     "text": [
      "Total is: 150\n",
      "Total is: 150\n"
     ]
    }
   ],
   "source": [
    "#Line Continuation\n",
    "a = 50\n",
    "b = 100\n",
    "# Using parentheses\n",
    "total = (a +\n",
    "         b)\n",
    "print(\"Total is:\", total)\n",
    "\n",
    "# Using backslash\n",
    "total = a + \\\n",
    "         b\n",
    "print(\"Total is:\", total)\n"
   ]
  },
  {
   "cell_type": "code",
   "execution_count": null,
   "id": "48587371",
   "metadata": {},
   "outputs": [
    {
     "name": "stdout",
     "output_type": "stream",
     "text": [
      "Sum is: 15\n"
     ]
    }
   ],
   "source": [
    "#Multiple Statements in a Single Line\n",
    "#Using semicolon\n",
    "a = 5; b = 10; c = a + b; print(\"Sum is:\", c)\n",
    "# --- IGNORE ---"
   ]
  },
  {
   "cell_type": "code",
   "execution_count": 13,
   "id": "e6288f43",
   "metadata": {},
   "outputs": [
    {
     "name": "stdout",
     "output_type": "stream",
     "text": [
      "10 is of type <class 'int'>\n",
      "Hello is of type <class 'str'>\n",
      "3.14 is of type <class 'float'>\n"
     ]
    }
   ],
   "source": [
    "#Dynamic Typing\n",
    "x = 10          # x is an integer\n",
    "print(x, \"is of type\", type(x))\n",
    "x = \"Hello\"     # Now x is a string\n",
    "print(x, \"is of type\", type(x))\n",
    "x = 3.14       # Now x is a float\n",
    "print(x, \"is of type\", type(x))\n",
    "# --- IGNORE ---"
   ]
  },
  {
   "cell_type": "code",
   "execution_count": 15,
   "id": "8bbb8f66",
   "metadata": {},
   "outputs": [
    {
     "name": "stdout",
     "output_type": "stream",
     "text": [
      "20\n"
     ]
    }
   ],
   "source": [
    "#Name Errors\n",
    "# print(y) #NameError: name 'y' is not defined\n",
    "y = 20\n",
    "print(y)\n",
    "# --- IGNORE ---\n"
   ]
  },
  {
   "cell_type": "code",
   "execution_count": 19,
   "id": "2d140532",
   "metadata": {},
   "outputs": [],
   "source": [
    "#Indentation Error\n",
    "# if a==10: # Uncommenting this will raise an IndentationError\n",
    "# print(\"This will raise an IndentationError\")  # because the print statement is not indented\n",
    "# --- IGNORE ---\n",
    "if a==10:\n",
    "    print(\"This will raise an IndentationError\")"
   ]
  },
  {
   "cell_type": "code",
   "execution_count": 20,
   "id": "d0295f04",
   "metadata": {},
   "outputs": [
    {
     "name": "stdout",
     "output_type": "stream",
     "text": [
      "42 is of type <class 'int'>\n",
      "Python is of type <class 'str'>\n"
     ]
    }
   ],
   "source": [
    "#Type inference\n",
    "z = 42          # z is inferred as an integer\n",
    "print(z, \"is of type\", type(z))\n",
    "z = \"Python\"    # Now z is inferred as a string\n",
    "print(z, \"is of type\", type(z))"
   ]
  },
  {
   "cell_type": "code",
   "execution_count": null,
   "id": "e8ccf964",
   "metadata": {},
   "outputs": [],
   "source": []
  },
  {
   "cell_type": "code",
   "execution_count": null,
   "id": "ffac4b50",
   "metadata": {},
   "outputs": [],
   "source": []
  },
  {
   "cell_type": "code",
   "execution_count": null,
   "id": "bdc6daf0",
   "metadata": {},
   "outputs": [],
   "source": []
  },
  {
   "cell_type": "code",
   "execution_count": null,
   "id": "28aaf62d",
   "metadata": {},
   "outputs": [],
   "source": []
  },
  {
   "cell_type": "code",
   "execution_count": null,
   "id": "a076e7bf",
   "metadata": {},
   "outputs": [],
   "source": []
  },
  {
   "cell_type": "code",
   "execution_count": null,
   "id": "26271528",
   "metadata": {},
   "outputs": [],
   "source": []
  },
  {
   "cell_type": "code",
   "execution_count": null,
   "id": "0105df8d",
   "metadata": {},
   "outputs": [],
   "source": []
  }
 ],
 "metadata": {
  "kernelspec": {
   "display_name": "virt_env_dev",
   "language": "python",
   "name": "python3"
  },
  "language_info": {
   "codemirror_mode": {
    "name": "ipython",
    "version": 3
   },
   "file_extension": ".py",
   "mimetype": "text/x-python",
   "name": "python",
   "nbconvert_exporter": "python",
   "pygments_lexer": "ipython3",
   "version": "3.11.9"
  }
 },
 "nbformat": 4,
 "nbformat_minor": 5
}
