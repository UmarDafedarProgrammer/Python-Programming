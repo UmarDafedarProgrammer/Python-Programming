{
 "cells": [
  {
   "cell_type": "markdown",
   "id": "7131fa64",
   "metadata": {},
   "source": [
    "#### Dictionary\n",
    "\n",
    "1. Unordered collection of items\n",
    "2. Store data in key-value pairs\n",
    "3. Key is immutable - can not be modified\n",
    "4. Value is mutable - can be modified\n",
    "5. Key must be unique\n",
    "6. {} are used to declare dictionaries\n",
    "7. dict() - constructor can also be used to declare dictionaries\n",
    "8. <class 'dict'>\n",
    "9. {Key:value, key2:value2....}"
   ]
  },
  {
   "cell_type": "code",
   "execution_count": 3,
   "id": "dd435cc3",
   "metadata": {},
   "outputs": [
    {
     "name": "stdout",
     "output_type": "stream",
     "text": [
      "{}\n",
      "<class 'dict'>\n"
     ]
    }
   ],
   "source": [
    "# Create an empty dictionary\n",
    "\n",
    "d1 = {}\n",
    "\n",
    "print(d1)\n",
    "print(type(d1))"
   ]
  },
  {
   "cell_type": "code",
   "execution_count": 4,
   "id": "8ccef791",
   "metadata": {},
   "outputs": [
    {
     "name": "stdout",
     "output_type": "stream",
     "text": [
      "{}\n",
      "<class 'dict'>\n"
     ]
    }
   ],
   "source": [
    "#Using constructor function\n",
    "\n",
    "d2 = dict()\n",
    "\n",
    "print(d2)\n",
    "print(type(d2))"
   ]
  },
  {
   "cell_type": "code",
   "execution_count": 6,
   "id": "98471e8f",
   "metadata": {},
   "outputs": [],
   "source": [
    "d1 = {\"ID\":1, \"Name\":\"Umar\", \"PG\":\"AIML\"}"
   ]
  },
  {
   "cell_type": "code",
   "execution_count": 7,
   "id": "672a5b37",
   "metadata": {},
   "outputs": [
    {
     "name": "stdout",
     "output_type": "stream",
     "text": [
      "{'ID': 1, 'Name': 'Umar', 'PG': 'AIML'}\n"
     ]
    }
   ],
   "source": [
    "print(d1)"
   ]
  },
  {
   "cell_type": "code",
   "execution_count": 11,
   "id": "e99fd299",
   "metadata": {},
   "outputs": [
    {
     "name": "stdout",
     "output_type": "stream",
     "text": [
      "1\n",
      "Umar\n"
     ]
    }
   ],
   "source": [
    "### Accessing the value using key\n",
    "\n",
    "print(d1['ID'])\n",
    "print(d1[\"Name\"])"
   ]
  },
  {
   "cell_type": "code",
   "execution_count": 13,
   "id": "cdd73d97",
   "metadata": {},
   "outputs": [],
   "source": [
    "# Modify the value using key\n",
    "d1['PG'] = \"Cloud computing\""
   ]
  },
  {
   "cell_type": "code",
   "execution_count": 14,
   "id": "eb31ff4c",
   "metadata": {},
   "outputs": [
    {
     "name": "stdout",
     "output_type": "stream",
     "text": [
      "Cloud computing\n"
     ]
    }
   ],
   "source": [
    "print(d1['PG'])"
   ]
  },
  {
   "cell_type": "code",
   "execution_count": 18,
   "id": "b294cb10",
   "metadata": {},
   "outputs": [],
   "source": [
    "# What if the Key is not available\n",
    "\n",
    "# print(d1['PG1']) # if you are using this to access not available keys then it would give an error\n",
    "\n",
    "# ---------------------------------------------------------------------------\n",
    "# KeyError                                  Traceback (most recent call last)\n",
    "# Cell In[17], line 3\n",
    "#       1 # What if the Key is not available\n",
    "# ----> 3 print(d1['PG1'])\n",
    "\n",
    "# KeyError: 'PG1'"
   ]
  },
  {
   "cell_type": "code",
   "execution_count": 19,
   "id": "ef3677aa",
   "metadata": {},
   "outputs": [
    {
     "name": "stdout",
     "output_type": "stream",
     "text": [
      "Cloud computing\n"
     ]
    }
   ],
   "source": [
    "# using get fuction\n",
    "\n",
    "print(d1.get('PG'))"
   ]
  },
  {
   "cell_type": "code",
   "execution_count": null,
   "id": "7eff6db5",
   "metadata": {},
   "outputs": [
    {
     "name": "stdout",
     "output_type": "stream",
     "text": [
      "None\n"
     ]
    }
   ],
   "source": [
    "print(d1.get('PG2')) #Even if the key does not exist, it does not fail instead it returns None"
   ]
  },
  {
   "cell_type": "code",
   "execution_count": 21,
   "id": "c25f96b6",
   "metadata": {},
   "outputs": [
    {
     "name": "stdout",
     "output_type": "stream",
     "text": [
      "Key Not Available\n"
     ]
    }
   ],
   "source": [
    "print(d1.get('PG2','Key Not Available')) #What if you want to return default value when key does not exist"
   ]
  },
  {
   "cell_type": "code",
   "execution_count": 22,
   "id": "19462dd8",
   "metadata": {},
   "outputs": [],
   "source": [
    "## Adding a new key\n",
    "\n",
    "d1['new_key'] = \"new_value\""
   ]
  },
  {
   "cell_type": "code",
   "execution_count": 23,
   "id": "e25a599f",
   "metadata": {},
   "outputs": [
    {
     "name": "stdout",
     "output_type": "stream",
     "text": [
      "{'ID': 1, 'Name': 'Umar', 'PG': 'Cloud computing', 'new_key': 'new_value'}\n"
     ]
    }
   ],
   "source": [
    "print(d1)"
   ]
  },
  {
   "cell_type": "code",
   "execution_count": 25,
   "id": "3672500c",
   "metadata": {},
   "outputs": [],
   "source": [
    "# Deleting the key\n",
    "\n",
    "del d1['new_key'] # delete the new_key and value pair"
   ]
  },
  {
   "cell_type": "code",
   "execution_count": 26,
   "id": "8b5ac7eb",
   "metadata": {},
   "outputs": [
    {
     "data": {
      "text/plain": [
       "{'ID': 1, 'Name': 'Umar', 'PG': 'Cloud computing'}"
      ]
     },
     "execution_count": 26,
     "metadata": {},
     "output_type": "execute_result"
    }
   ],
   "source": [
    "d1"
   ]
  },
  {
   "cell_type": "markdown",
   "id": "b49ecc30",
   "metadata": {},
   "source": [
    "##### Read all the keys from a dictionary"
   ]
  },
  {
   "cell_type": "code",
   "execution_count": 33,
   "id": "e8f18004",
   "metadata": {},
   "outputs": [],
   "source": [
    "lk=d1.keys()"
   ]
  },
  {
   "cell_type": "code",
   "execution_count": 34,
   "id": "699c4bb8",
   "metadata": {},
   "outputs": [
    {
     "name": "stdout",
     "output_type": "stream",
     "text": [
      "<class 'dict_keys'>\n"
     ]
    }
   ],
   "source": [
    "print(type(lk)) "
   ]
  },
  {
   "cell_type": "code",
   "execution_count": 35,
   "id": "41e1e3cb",
   "metadata": {},
   "outputs": [
    {
     "data": {
      "text/plain": [
       "['ID', 'Name', 'PG']"
      ]
     },
     "execution_count": 35,
     "metadata": {},
     "output_type": "execute_result"
    }
   ],
   "source": [
    "list(lk)"
   ]
  },
  {
   "cell_type": "markdown",
   "id": "6aa2089d",
   "metadata": {},
   "source": [
    "##### Return all the values from the dictionary"
   ]
  },
  {
   "cell_type": "code",
   "execution_count": 36,
   "id": "3c59118f",
   "metadata": {},
   "outputs": [],
   "source": [
    "lv=d1.values()"
   ]
  },
  {
   "cell_type": "code",
   "execution_count": 37,
   "id": "540bf859",
   "metadata": {},
   "outputs": [
    {
     "name": "stdout",
     "output_type": "stream",
     "text": [
      "<class 'dict_values'>\n"
     ]
    }
   ],
   "source": [
    "print(type(lv))"
   ]
  },
  {
   "cell_type": "code",
   "execution_count": 38,
   "id": "4db24498",
   "metadata": {},
   "outputs": [
    {
     "name": "stdout",
     "output_type": "stream",
     "text": [
      "[1, 'Umar', 'Cloud computing']\n"
     ]
    }
   ],
   "source": [
    "print(list(lv))"
   ]
  },
  {
   "cell_type": "markdown",
   "id": "00a177f5",
   "metadata": {},
   "source": [
    "##### Return key,value pairs as a list"
   ]
  },
  {
   "cell_type": "code",
   "execution_count": 39,
   "id": "190e39dc",
   "metadata": {},
   "outputs": [],
   "source": [
    "litems=d1.items()"
   ]
  },
  {
   "cell_type": "code",
   "execution_count": 40,
   "id": "52a925b9",
   "metadata": {},
   "outputs": [
    {
     "name": "stdout",
     "output_type": "stream",
     "text": [
      "<class 'dict_items'>\n"
     ]
    }
   ],
   "source": [
    "print(type(litems))"
   ]
  },
  {
   "cell_type": "code",
   "execution_count": 41,
   "id": "cb866ede",
   "metadata": {},
   "outputs": [
    {
     "name": "stdout",
     "output_type": "stream",
     "text": [
      "[('ID', 1), ('Name', 'Umar'), ('PG', 'Cloud computing')]\n"
     ]
    }
   ],
   "source": [
    "print(list(litems))"
   ]
  },
  {
   "cell_type": "markdown",
   "id": "ec082035",
   "metadata": {},
   "source": [
    "##### Iterating through dictionary"
   ]
  },
  {
   "cell_type": "code",
   "execution_count": 43,
   "id": "e604e71d",
   "metadata": {},
   "outputs": [
    {
     "name": "stdout",
     "output_type": "stream",
     "text": [
      "ID\n",
      "Name\n",
      "PG\n"
     ]
    }
   ],
   "source": [
    "### Just the keys are returned\n",
    "for i in d1:\n",
    "    print(i)"
   ]
  },
  {
   "cell_type": "code",
   "execution_count": 44,
   "id": "92595e75",
   "metadata": {},
   "outputs": [
    {
     "name": "stdout",
     "output_type": "stream",
     "text": [
      "ID : 1\n",
      "Name : Umar\n",
      "PG : Cloud computing\n"
     ]
    }
   ],
   "source": [
    "for i in d1:\n",
    "    print(i,\":\",d1[i])"
   ]
  },
  {
   "cell_type": "code",
   "execution_count": 45,
   "id": "ffafbc90",
   "metadata": {},
   "outputs": [
    {
     "name": "stdout",
     "output_type": "stream",
     "text": [
      "ID : 1\n",
      "Name : Umar\n",
      "PG : Cloud computing\n"
     ]
    }
   ],
   "source": [
    "for i in d1.keys():\n",
    "    print(i,\":\",d1[i])"
   ]
  },
  {
   "cell_type": "code",
   "execution_count": 46,
   "id": "c7a3882a",
   "metadata": {},
   "outputs": [
    {
     "name": "stdout",
     "output_type": "stream",
     "text": [
      "1\n",
      "Umar\n",
      "Cloud computing\n"
     ]
    }
   ],
   "source": [
    "for value in d1.values():\n",
    "    print(value)"
   ]
  },
  {
   "cell_type": "code",
   "execution_count": 47,
   "id": "274e4346",
   "metadata": {},
   "outputs": [
    {
     "name": "stdout",
     "output_type": "stream",
     "text": [
      "ID : 1\n",
      "Name : Umar\n",
      "PG : Cloud computing\n"
     ]
    }
   ],
   "source": [
    "for key,value in d1.items():\n",
    "    print(key,\":\",value)"
   ]
  },
  {
   "cell_type": "markdown",
   "id": "f8f0b467",
   "metadata": {},
   "source": [
    "##### Nested dictionaries"
   ]
  },
  {
   "cell_type": "code",
   "execution_count": 48,
   "id": "d6b1e612",
   "metadata": {},
   "outputs": [],
   "source": [
    "student_details = {\n",
    "    1:{\"Name\": \"Umar\", \"Age\":35, \"Grade\":\"A\"},\n",
    "    2:{\"Name\": \"Sudheer\", \"Age\":35, \"Grade\":\"A+\"},\n",
    "    3:{\"Name\": \"Uzma\", \"Age\":28, \"Grade\":\"A++\"},\n",
    "}\n"
   ]
  },
  {
   "cell_type": "code",
   "execution_count": 49,
   "id": "d50b3ae4",
   "metadata": {},
   "outputs": [
    {
     "data": {
      "text/plain": [
       "{'Name': 'Umar', 'Age': 35, 'Grade': 'A'}"
      ]
     },
     "execution_count": 49,
     "metadata": {},
     "output_type": "execute_result"
    }
   ],
   "source": [
    "student_details[1]"
   ]
  },
  {
   "cell_type": "code",
   "execution_count": 50,
   "id": "6f3295ba",
   "metadata": {},
   "outputs": [
    {
     "data": {
      "text/plain": [
       "'Umar'"
      ]
     },
     "execution_count": 50,
     "metadata": {},
     "output_type": "execute_result"
    }
   ],
   "source": [
    "student_details[1][\"Name\"]"
   ]
  },
  {
   "cell_type": "code",
   "execution_count": 51,
   "id": "34706025",
   "metadata": {},
   "outputs": [
    {
     "data": {
      "text/plain": [
       "'Sudheer'"
      ]
     },
     "execution_count": 51,
     "metadata": {},
     "output_type": "execute_result"
    }
   ],
   "source": [
    "student_details[2][\"Name\"]"
   ]
  },
  {
   "cell_type": "code",
   "execution_count": 52,
   "id": "9044b38b",
   "metadata": {},
   "outputs": [
    {
     "data": {
      "text/plain": [
       "'A++'"
      ]
     },
     "execution_count": 52,
     "metadata": {},
     "output_type": "execute_result"
    }
   ],
   "source": [
    "student_details[3][\"Grade\"]"
   ]
  },
  {
   "cell_type": "code",
   "execution_count": 53,
   "id": "79a483d4",
   "metadata": {},
   "outputs": [
    {
     "name": "stdout",
     "output_type": "stream",
     "text": [
      "Umar 35 A \n",
      "Sudheer 35 A+ \n",
      "Uzma 28 A++ \n"
     ]
    }
   ],
   "source": [
    "for sub_dict_key in student_details.keys():\n",
    "    for inner_key in student_details[sub_dict_key]:\n",
    "        print(student_details[sub_dict_key][inner_key],end=' ')\n",
    "    print()"
   ]
  },
  {
   "cell_type": "code",
   "execution_count": null,
   "id": "5b11d47c",
   "metadata": {},
   "outputs": [],
   "source": [
    "for sub_dict_key in student_details.keys():\n",
    "    for inner_key in student_details[sub_dict_key]:\n",
    "        print(student_details[sub_dict_key][inner_key],end=' ')\n",
    "    print()"
   ]
  },
  {
   "cell_type": "markdown",
   "id": "5b969c10",
   "metadata": {},
   "source": [
    "##### Dictionary Comprehension"
   ]
  },
  {
   "cell_type": "code",
   "execution_count": 54,
   "id": "25420a9c",
   "metadata": {},
   "outputs": [],
   "source": [
    "suqare_d1 = {x:x**2 for x in range(0,20,2)}"
   ]
  },
  {
   "cell_type": "code",
   "execution_count": 56,
   "id": "8fa0f72c",
   "metadata": {},
   "outputs": [
    {
     "name": "stdout",
     "output_type": "stream",
     "text": [
      "{0: 0, 2: 4, 4: 16, 6: 36, 8: 64, 10: 100, 12: 144, 14: 196, 16: 256, 18: 324}\n"
     ]
    }
   ],
   "source": [
    "print(suqare_d1)"
   ]
  },
  {
   "cell_type": "code",
   "execution_count": 57,
   "id": "021f1608",
   "metadata": {},
   "outputs": [],
   "source": [
    "even_suqare_d2 = {x:x**2 for x in range(20) if x%2==0}"
   ]
  },
  {
   "cell_type": "code",
   "execution_count": 58,
   "id": "341930ff",
   "metadata": {},
   "outputs": [
    {
     "name": "stdout",
     "output_type": "stream",
     "text": [
      "{0: 0, 2: 4, 4: 16, 6: 36, 8: 64, 10: 100, 12: 144, 14: 196, 16: 256, 18: 324}\n"
     ]
    }
   ],
   "source": [
    "print(even_suqare_d2)"
   ]
  },
  {
   "cell_type": "code",
   "execution_count": 59,
   "id": "65751ff9",
   "metadata": {},
   "outputs": [],
   "source": [
    "even_square_odd_nod3={x:x**2 if x%2==0 else x for x in range(20)}"
   ]
  },
  {
   "cell_type": "code",
   "execution_count": 60,
   "id": "9a8c1e9c",
   "metadata": {},
   "outputs": [
    {
     "name": "stdout",
     "output_type": "stream",
     "text": [
      "{0: 0, 1: 1, 2: 4, 3: 3, 4: 16, 5: 5, 6: 36, 7: 7, 8: 64, 9: 9, 10: 100, 11: 11, 12: 144, 13: 13, 14: 196, 15: 15, 16: 256, 17: 17, 18: 324, 19: 19}\n"
     ]
    }
   ],
   "source": [
    "print(even_square_odd_nod3)"
   ]
  },
  {
   "cell_type": "code",
   "execution_count": 61,
   "id": "b5310e0b",
   "metadata": {},
   "outputs": [],
   "source": [
    "##### Create a dictionary which reads the list and then for each unique element identifies the frequency\n",
    "\n",
    "list1=[1,2,2,3,3,3,4,4,4,4]"
   ]
  },
  {
   "cell_type": "code",
   "execution_count": 67,
   "id": "61e7df26",
   "metadata": {},
   "outputs": [
    {
     "name": "stdout",
     "output_type": "stream",
     "text": [
      "1\n",
      "2\n",
      "3\n",
      "4\n",
      "{1: 1, 2: 2, 3: 3, 4: 4}\n"
     ]
    }
   ],
   "source": [
    "frequency={}\n",
    "for i in list1:\n",
    "    if i not in frequency:\n",
    "        print(f\"{i}\")\n",
    "        frequency[i]=list1.count(i)\n",
    "\n",
    "print(frequency)"
   ]
  },
  {
   "cell_type": "code",
   "execution_count": null,
   "id": "9363643e",
   "metadata": {},
   "outputs": [],
   "source": []
  }
 ],
 "metadata": {
  "kernelspec": {
   "display_name": "virt_env_dev",
   "language": "python",
   "name": "python3"
  },
  "language_info": {
   "codemirror_mode": {
    "name": "ipython",
    "version": 3
   },
   "file_extension": ".py",
   "mimetype": "text/x-python",
   "name": "python",
   "nbconvert_exporter": "python",
   "pygments_lexer": "ipython3",
   "version": "3.11.9"
  }
 },
 "nbformat": 4,
 "nbformat_minor": 5
}
