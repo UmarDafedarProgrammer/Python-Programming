{
 "cells": [
  {
   "cell_type": "markdown",
   "id": "155d62d4",
   "metadata": {},
   "source": [
    "#### set\n",
    "\n",
    "1. Unordered collection of unique elements.\n",
    "2. Implemented using hash tables.\n",
    "3. No duplicates allowed."
   ]
  },
  {
   "cell_type": "code",
   "execution_count": 2,
   "id": "cec10f9f",
   "metadata": {},
   "outputs": [],
   "source": [
    "s = {1,2,3,4,0}"
   ]
  },
  {
   "cell_type": "code",
   "execution_count": 3,
   "id": "0303d175",
   "metadata": {},
   "outputs": [
    {
     "data": {
      "text/plain": [
       "{0, 1, 2, 3, 4}"
      ]
     },
     "execution_count": 3,
     "metadata": {},
     "output_type": "execute_result"
    }
   ],
   "source": [
    "s"
   ]
  },
  {
   "cell_type": "code",
   "execution_count": 4,
   "id": "d4acd6aa",
   "metadata": {},
   "outputs": [],
   "source": [
    "s1 = {1,\"hello\", 99}"
   ]
  },
  {
   "cell_type": "code",
   "execution_count": 5,
   "id": "69613ff2",
   "metadata": {},
   "outputs": [
    {
     "data": {
      "text/plain": [
       "{1, 99, 'hello'}"
      ]
     },
     "execution_count": 5,
     "metadata": {},
     "output_type": "execute_result"
    }
   ],
   "source": [
    "s1"
   ]
  },
  {
   "cell_type": "code",
   "execution_count": 6,
   "id": "22dee6f0",
   "metadata": {},
   "outputs": [],
   "source": [
    "s2 = {2,1,4,2,3,6,5}"
   ]
  },
  {
   "cell_type": "code",
   "execution_count": 7,
   "id": "24320b12",
   "metadata": {},
   "outputs": [
    {
     "data": {
      "text/plain": [
       "{1, 2, 3, 4, 5, 6}"
      ]
     },
     "execution_count": 7,
     "metadata": {},
     "output_type": "execute_result"
    }
   ],
   "source": [
    "s2"
   ]
  },
  {
   "cell_type": "code",
   "execution_count": 8,
   "id": "487dfe09",
   "metadata": {},
   "outputs": [
    {
     "name": "stdout",
     "output_type": "stream",
     "text": [
      "<class 'set'>\n"
     ]
    }
   ],
   "source": [
    "print(type(s1))"
   ]
  },
  {
   "cell_type": "code",
   "execution_count": null,
   "id": "86e05ae1",
   "metadata": {},
   "outputs": [],
   "source": []
  }
 ],
 "metadata": {
  "kernelspec": {
   "display_name": "virt_env_dev",
   "language": "python",
   "name": "python3"
  },
  "language_info": {
   "codemirror_mode": {
    "name": "ipython",
    "version": 3
   },
   "file_extension": ".py",
   "mimetype": "text/x-python",
   "name": "python",
   "nbconvert_exporter": "python",
   "pygments_lexer": "ipython3",
   "version": "3.11.9"
  }
 },
 "nbformat": 4,
 "nbformat_minor": 5
}
