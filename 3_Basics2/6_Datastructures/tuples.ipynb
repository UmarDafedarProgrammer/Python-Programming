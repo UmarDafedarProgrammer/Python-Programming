{
 "cells": [
  {
   "cell_type": "markdown",
   "id": "4a9d03c3",
   "metadata": {},
   "source": [
    "#### Tuples\n",
    "\n",
    "1. Immutable - Can not be modified after creation\n",
    "2. Similar to List\n",
    "3. Ordered collection of items\n",
    "4. () -> Create an empty tuple OR using constructor tuple()\n",
    "\n",
    "\n",
    "🔹 Why Use Tuples?\n",
    "\n",
    "1. Faster than lists (since immutable).\n",
    "2. Used as dictionary keys (lists cannot).\n",
    "3. Good for fixed collections of data (e.g., coordinates, RGB values, DB rows)."
   ]
  },
  {
   "cell_type": "code",
   "execution_count": 2,
   "id": "a0b03dcf",
   "metadata": {},
   "outputs": [
    {
     "data": {
      "text/plain": [
       "()"
      ]
     },
     "execution_count": 2,
     "metadata": {},
     "output_type": "execute_result"
    }
   ],
   "source": [
    "tuple() # Creating an empty tuple using constructor method  "
   ]
  },
  {
   "cell_type": "code",
   "execution_count": 4,
   "id": "bb6784d1",
   "metadata": {},
   "outputs": [
    {
     "data": {
      "text/plain": [
       "()"
      ]
     },
     "execution_count": 4,
     "metadata": {},
     "output_type": "execute_result"
    }
   ],
   "source": [
    "t_empty=()\n",
    "t_empty"
   ]
  },
  {
   "cell_type": "code",
   "execution_count": 5,
   "id": "08bc04ee",
   "metadata": {},
   "outputs": [],
   "source": [
    "t2=(1,2,3,4,5,6)"
   ]
  },
  {
   "cell_type": "code",
   "execution_count": 6,
   "id": "b4745089",
   "metadata": {},
   "outputs": [
    {
     "data": {
      "text/plain": [
       "(1, 2, 3, 4, 5, 6)"
      ]
     },
     "execution_count": 6,
     "metadata": {},
     "output_type": "execute_result"
    }
   ],
   "source": [
    "t2"
   ]
  },
  {
   "cell_type": "code",
   "execution_count": 7,
   "id": "c0528bfc",
   "metadata": {},
   "outputs": [
    {
     "data": {
      "text/plain": [
       "4"
      ]
     },
     "execution_count": 7,
     "metadata": {},
     "output_type": "execute_result"
    }
   ],
   "source": [
    "t2[3] # Access the elements using index"
   ]
  },
  {
   "cell_type": "code",
   "execution_count": 9,
   "id": "55c3f0a9",
   "metadata": {},
   "outputs": [
    {
     "name": "stdout",
     "output_type": "stream",
     "text": [
      "1 2 3 4 5 6 "
     ]
    }
   ],
   "source": [
    "# Iterate through tuples\n",
    "for item in t2:\n",
    "    print(item, end=' ')"
   ]
  },
  {
   "cell_type": "code",
   "execution_count": 18,
   "id": "652fb018",
   "metadata": {},
   "outputs": [
    {
     "name": "stdout",
     "output_type": "stream",
     "text": [
      "[3, 5, 6, 7, 2, 4, 2, 3]\n",
      "<class 'list'>\n"
     ]
    }
   ],
   "source": [
    "# Create a tuple using a list\n",
    "l1 = [3,5,6,7,2,4,2,3]\n",
    "print(l1)\n",
    "print(type(l1))"
   ]
  },
  {
   "cell_type": "code",
   "execution_count": 19,
   "id": "f9daffa4",
   "metadata": {},
   "outputs": [],
   "source": [
    "t3=tuple(l1)"
   ]
  },
  {
   "cell_type": "code",
   "execution_count": 20,
   "id": "4eff32e4",
   "metadata": {},
   "outputs": [
    {
     "name": "stdout",
     "output_type": "stream",
     "text": [
      "(3, 5, 6, 7, 2, 4, 2, 3)\n",
      "<class 'tuple'>\n"
     ]
    }
   ],
   "source": [
    "print(t3)\n",
    "print(type(t3))"
   ]
  },
  {
   "cell_type": "markdown",
   "id": "c7a58f83",
   "metadata": {},
   "source": [
    "##### Immutable"
   ]
  },
  {
   "cell_type": "code",
   "execution_count": 21,
   "id": "79905777",
   "metadata": {},
   "outputs": [
    {
     "data": {
      "text/plain": [
       "(1, 2, 3, 4, 5, 6)"
      ]
     },
     "execution_count": 21,
     "metadata": {},
     "output_type": "execute_result"
    }
   ],
   "source": [
    "t2"
   ]
  },
  {
   "cell_type": "code",
   "execution_count": 23,
   "id": "7504cc9d",
   "metadata": {},
   "outputs": [],
   "source": [
    "# t2[2] = 10\n",
    "\n",
    "# ---------------------------------------------------------------------------\n",
    "# TypeError                                 Traceback (most recent call last)\n",
    "# Cell In[22], line 1\n",
    "# ----> 1 t2[2] = 10\n",
    "\n",
    "# TypeError: 'tuple' object does not support item assignment"
   ]
  },
  {
   "cell_type": "markdown",
   "id": "d1e45313",
   "metadata": {},
   "source": [
    "#### Packing and unpacking tuples"
   ]
  },
  {
   "cell_type": "code",
   "execution_count": null,
   "id": "217c63ae",
   "metadata": {},
   "outputs": [],
   "source": [
    "tuples_packed = 1,\"Hello\", 45.56, True, (3,4), [5,6,7]\n",
    "# in python, assigning multiple values to variable even without parenthesis it creates a tuple : Tuple packing"
   ]
  },
  {
   "cell_type": "code",
   "execution_count": 31,
   "id": "47b006fc",
   "metadata": {},
   "outputs": [
    {
     "data": {
      "text/plain": [
       "(1, 'Hello', 45.56, True, (3, 4), [5, 6, 7])"
      ]
     },
     "execution_count": 31,
     "metadata": {},
     "output_type": "execute_result"
    }
   ],
   "source": [
    "tuples_packed"
   ]
  },
  {
   "cell_type": "code",
   "execution_count": 32,
   "id": "dcc34888",
   "metadata": {},
   "outputs": [
    {
     "name": "stdout",
     "output_type": "stream",
     "text": [
      "<class 'tuple'>\n"
     ]
    }
   ],
   "source": [
    "print(type(tuples_packed))"
   ]
  },
  {
   "cell_type": "code",
   "execution_count": 33,
   "id": "9668794c",
   "metadata": {},
   "outputs": [],
   "source": [
    "t4 = (3,4,2,(8,9), \"Hello\") #Tuple packing using parenthesis"
   ]
  },
  {
   "cell_type": "code",
   "execution_count": 34,
   "id": "b38beef5",
   "metadata": {},
   "outputs": [
    {
     "name": "stdout",
     "output_type": "stream",
     "text": [
      "(3, 4, 2, (8, 9), 'Hello')\n"
     ]
    }
   ],
   "source": [
    "print(t4)"
   ]
  },
  {
   "cell_type": "code",
   "execution_count": 35,
   "id": "703241bd",
   "metadata": {},
   "outputs": [],
   "source": [
    "#Unpacking means extracting values from a tuple into separate variables\n",
    "t5=3,4,5"
   ]
  },
  {
   "cell_type": "code",
   "execution_count": null,
   "id": "35e89faa",
   "metadata": {},
   "outputs": [],
   "source": [
    "a,b,c = t5 #Unpacking"
   ]
  },
  {
   "cell_type": "code",
   "execution_count": 37,
   "id": "bcecd055",
   "metadata": {},
   "outputs": [
    {
     "name": "stdout",
     "output_type": "stream",
     "text": [
      "3 4 5\n"
     ]
    }
   ],
   "source": [
    "print(a, b, c)"
   ]
  },
  {
   "cell_type": "code",
   "execution_count": 38,
   "id": "71a0fd23",
   "metadata": {},
   "outputs": [],
   "source": [
    "t6 = 'a','c',9,1,(5,6),[4,3,2],True"
   ]
  },
  {
   "cell_type": "code",
   "execution_count": 39,
   "id": "52b821ac",
   "metadata": {},
   "outputs": [
    {
     "data": {
      "text/plain": [
       "('a', 'c', 9, 1, (5, 6), [4, 3, 2], True)"
      ]
     },
     "execution_count": 39,
     "metadata": {},
     "output_type": "execute_result"
    }
   ],
   "source": [
    "t6"
   ]
  },
  {
   "cell_type": "code",
   "execution_count": 43,
   "id": "f1b1e316",
   "metadata": {},
   "outputs": [],
   "source": [
    "a,b,c,d,(e,f),[g,h,i],j=t6"
   ]
  },
  {
   "cell_type": "code",
   "execution_count": 44,
   "id": "d1352051",
   "metadata": {},
   "outputs": [
    {
     "name": "stdout",
     "output_type": "stream",
     "text": [
      "a c 9 1 5 6 4 3 2 True\n"
     ]
    }
   ],
   "source": [
    "print(a,b,c,d,e,f,g,h,i,j)"
   ]
  },
  {
   "cell_type": "code",
   "execution_count": null,
   "id": "aca397a2",
   "metadata": {},
   "outputs": [],
   "source": [
    "a,b,*c=t6 # Value returned to *c is a list of rest of the items\n",
    "# *c -> (note: list, not tuple)\n"
   ]
  },
  {
   "cell_type": "code",
   "execution_count": 48,
   "id": "3cb7fc3d",
   "metadata": {},
   "outputs": [
    {
     "name": "stdout",
     "output_type": "stream",
     "text": [
      "a c [9, 1, (5, 6), [4, 3, 2], True]\n"
     ]
    }
   ],
   "source": [
    "print(a,b,c)\n"
   ]
  },
  {
   "cell_type": "code",
   "execution_count": null,
   "id": "6c082744",
   "metadata": {},
   "outputs": [],
   "source": [
    "t = (5, 2, 8, 1, 5)\n",
    "\n",
    "print(t.count(5))   # 2 (how many times 5 occurs)\n",
    "print(t.index(8))   # 2 (index of first occurrence of 8)"
   ]
  },
  {
   "cell_type": "markdown",
   "id": "f95c9467",
   "metadata": {},
   "source": [
    "#### Tuple Specific methods\n",
    "\n",
    "count()\n",
    "index()"
   ]
  },
  {
   "cell_type": "code",
   "execution_count": 50,
   "id": "b36513ba",
   "metadata": {},
   "outputs": [],
   "source": [
    "t=(2,3,1,2,3,4,6,2,3,6,99,7,8,9,2,1,2,2,5,6,0)"
   ]
  },
  {
   "cell_type": "code",
   "execution_count": 51,
   "id": "30c9a1ab",
   "metadata": {},
   "outputs": [
    {
     "data": {
      "text/plain": [
       "(2, 3, 1, 2, 3, 4, 6, 2, 3, 6, 99, 7, 8, 9, 2, 1, 2, 2, 5, 6, 0)"
      ]
     },
     "execution_count": 51,
     "metadata": {},
     "output_type": "execute_result"
    }
   ],
   "source": [
    "t"
   ]
  },
  {
   "cell_type": "code",
   "execution_count": 58,
   "id": "c115c3bf",
   "metadata": {},
   "outputs": [
    {
     "name": "stdout",
     "output_type": "stream",
     "text": [
      "6\n"
     ]
    }
   ],
   "source": [
    "print(t.count(2)) # number of times the value 2 exists in tuple"
   ]
  },
  {
   "cell_type": "code",
   "execution_count": 59,
   "id": "73a9d3a3",
   "metadata": {},
   "outputs": [
    {
     "name": "stdout",
     "output_type": "stream",
     "text": [
      "2\n"
     ]
    }
   ],
   "source": [
    "print(t.index(1)) # 1st occurence of 1 and return the correponding index"
   ]
  },
  {
   "cell_type": "markdown",
   "id": "479ec31f",
   "metadata": {},
   "source": [
    "##### Functions"
   ]
  },
  {
   "cell_type": "code",
   "execution_count": 62,
   "id": "2a533fd0",
   "metadata": {},
   "outputs": [
    {
     "name": "stdout",
     "output_type": "stream",
     "text": [
      "21\n"
     ]
    }
   ],
   "source": [
    "# Length of the tuple\n",
    "length=len(t)\n",
    "\n",
    "print(length)"
   ]
  },
  {
   "cell_type": "code",
   "execution_count": 64,
   "id": "c2f2ec9a",
   "metadata": {},
   "outputs": [
    {
     "name": "stdout",
     "output_type": "stream",
     "text": [
      "0\n"
     ]
    }
   ],
   "source": [
    "#mininum value of the element in the tuple\n",
    "min_element=min(t)\n",
    "\n",
    "print(min_element)"
   ]
  },
  {
   "cell_type": "code",
   "execution_count": 65,
   "id": "df2b0277",
   "metadata": {},
   "outputs": [
    {
     "name": "stdout",
     "output_type": "stream",
     "text": [
      "99\n"
     ]
    }
   ],
   "source": [
    "#maximum value of the element in the tuple\n",
    "max_element=max(t)\n",
    "\n",
    "print(max_element)"
   ]
  },
  {
   "cell_type": "code",
   "execution_count": 66,
   "id": "259247d5",
   "metadata": {},
   "outputs": [
    {
     "name": "stdout",
     "output_type": "stream",
     "text": [
      "173\n"
     ]
    }
   ],
   "source": [
    "#Sum of all the elements in the tuple\n",
    "sum_of_element=sum(t)\n",
    "\n",
    "print(sum_of_element)"
   ]
  },
  {
   "cell_type": "code",
   "execution_count": 72,
   "id": "e5c9e44f",
   "metadata": {},
   "outputs": [
    {
     "name": "stdout",
     "output_type": "stream",
     "text": [
      "False\n"
     ]
    }
   ],
   "source": [
    "#any element is either True or non-zero\n",
    "t = (0,0,0,0) # any element is other than 0/False\n",
    "any_true=any(t)\n",
    "\n",
    "print(any_true)"
   ]
  },
  {
   "cell_type": "code",
   "execution_count": 73,
   "id": "eedbf73d",
   "metadata": {},
   "outputs": [
    {
     "name": "stdout",
     "output_type": "stream",
     "text": [
      "True\n"
     ]
    }
   ],
   "source": [
    "t = (0,0,0,1) # any element is true/non-zero/Not null/0.0\n",
    "any_true=any(t)\n",
    "\n",
    "print(any_true)"
   ]
  },
  {
   "cell_type": "code",
   "execution_count": 74,
   "id": "de9a26bb",
   "metadata": {},
   "outputs": [
    {
     "name": "stdout",
     "output_type": "stream",
     "text": [
      "False\n"
     ]
    }
   ],
   "source": [
    "# Check if all the elements are true/non-zero/Not null/0.0\n",
    "\n",
    "t=(1,2,3,0)\n",
    "all_true=all(t)\n",
    "print(all_true)"
   ]
  },
  {
   "cell_type": "code",
   "execution_count": 79,
   "id": "24766c74",
   "metadata": {},
   "outputs": [
    {
     "name": "stdout",
     "output_type": "stream",
     "text": [
      "True\n"
     ]
    }
   ],
   "source": [
    "# Check if all the elements are true/non-zero\n",
    "\n",
    "t=(1,2,3,4,'a',0.01,'c')\n",
    "all_true=all(t)\n",
    "print(all_true)"
   ]
  },
  {
   "cell_type": "code",
   "execution_count": 80,
   "id": "9fe07939",
   "metadata": {},
   "outputs": [
    {
     "name": "stdout",
     "output_type": "stream",
     "text": [
      "value a exist in the tuples\n"
     ]
    }
   ],
   "source": [
    "# Membership functions in and not in  \n",
    "if 'a' in t:\n",
    "    print('value a exist in the tuples')\n",
    "else:\n",
    "    print('value a does not exist in the tuples')"
   ]
  },
  {
   "cell_type": "code",
   "execution_count": 82,
   "id": "e81b8886",
   "metadata": {},
   "outputs": [
    {
     "name": "stdout",
     "output_type": "stream",
     "text": [
      "value a does exist in the tuples\n"
     ]
    }
   ],
   "source": [
    "if 'a' not in t:\n",
    "    print('value a does not exist in the tuples')\n",
    "else:\n",
    "    print('value a does exist in the tuples')"
   ]
  },
  {
   "cell_type": "code",
   "execution_count": 89,
   "id": "f7d1e77d",
   "metadata": {},
   "outputs": [
    {
     "name": "stdout",
     "output_type": "stream",
     "text": [
      "<enumerate object at 0x0000022AA95DD9E0>\n",
      "<class 'enumerate'>\n",
      "[(0, 1), (1, 2), (2, 3), (3, 4), (4, 'a'), (5, 0.01), (6, 'c')]\n"
     ]
    }
   ],
   "source": [
    "# enumerator - Returns the list of index and corresponding element\n",
    "\n",
    "enumerator_list=enumerate(t)\n",
    "print(enumerator_list)\n",
    "print(type(enumerator_list))\n",
    "print(list(enumerator_list))"
   ]
  },
  {
   "cell_type": "code",
   "execution_count": 91,
   "id": "bb391ac5",
   "metadata": {},
   "outputs": [
    {
     "name": "stdout",
     "output_type": "stream",
     "text": [
      "0 1\n",
      "1 2\n",
      "2 3\n",
      "3 4\n",
      "4 a\n",
      "5 0.01\n",
      "6 c\n"
     ]
    }
   ],
   "source": [
    "for index, item in enumerate(t):\n",
    "    print(index, item)"
   ]
  },
  {
   "cell_type": "code",
   "execution_count": 95,
   "id": "53510822",
   "metadata": {},
   "outputs": [
    {
     "data": {
      "text/plain": [
       "('c', 0.01, 'a', 4, 3, 2, 1)"
      ]
     },
     "execution_count": 95,
     "metadata": {},
     "output_type": "execute_result"
    }
   ],
   "source": [
    "tuple(reversed(t)) # Returns a tuple which is reversed"
   ]
  },
  {
   "cell_type": "code",
   "execution_count": 96,
   "id": "ab61d7fa",
   "metadata": {},
   "outputs": [
    {
     "name": "stdout",
     "output_type": "stream",
     "text": [
      "(1, 2, 3, 4, 'a', 0.01, 'c')\n"
     ]
    }
   ],
   "source": [
    "print(t)"
   ]
  },
  {
   "cell_type": "code",
   "execution_count": 99,
   "id": "fd0d67e0",
   "metadata": {},
   "outputs": [],
   "source": [
    "t_int=(4,2,1,6,2,8,6,9,21)"
   ]
  },
  {
   "cell_type": "code",
   "execution_count": 102,
   "id": "a2ada00a",
   "metadata": {},
   "outputs": [
    {
     "data": {
      "text/plain": [
       "[1, 2, 2, 4, 6, 6, 8, 9, 21]"
      ]
     },
     "execution_count": 102,
     "metadata": {},
     "output_type": "execute_result"
    }
   ],
   "source": [
    "sorted(t_int) # Returns lsit with sorted elements"
   ]
  },
  {
   "cell_type": "code",
   "execution_count": 101,
   "id": "3193b466",
   "metadata": {},
   "outputs": [
    {
     "name": "stdout",
     "output_type": "stream",
     "text": [
      "(4, 2, 1, 6, 2, 8, 6, 9, 21)\n"
     ]
    }
   ],
   "source": [
    "print(t_int)"
   ]
  },
  {
   "cell_type": "code",
   "execution_count": 103,
   "id": "91b4cd15",
   "metadata": {},
   "outputs": [],
   "source": [
    "#Creating a tuple using list\n",
    "l1=[2,3,1,2,3,55,6,66,9]"
   ]
  },
  {
   "cell_type": "code",
   "execution_count": 104,
   "id": "7ad4c298",
   "metadata": {},
   "outputs": [],
   "source": [
    "t_from_list=tuple(l1)"
   ]
  },
  {
   "cell_type": "code",
   "execution_count": 106,
   "id": "11822b00",
   "metadata": {},
   "outputs": [
    {
     "name": "stdout",
     "output_type": "stream",
     "text": [
      "(2, 3, 1, 2, 3, 55, 6, 66, 9)\n"
     ]
    }
   ],
   "source": [
    "print(t_from_list)"
   ]
  },
  {
   "cell_type": "code",
   "execution_count": 107,
   "id": "8ff2019e",
   "metadata": {},
   "outputs": [],
   "source": [
    "##### Nested tuples\n",
    "\n",
    "t_nested = ((1,2,3,4),(5,6,7,8),('a','b','c','d'),([1,2],[3,4]))"
   ]
  },
  {
   "cell_type": "code",
   "execution_count": 108,
   "id": "abf99b97",
   "metadata": {},
   "outputs": [
    {
     "data": {
      "text/plain": [
       "((1, 2, 3, 4), (5, 6, 7, 8), ('a', 'b', 'c', 'd'), ([1, 2], [3, 4]))"
      ]
     },
     "execution_count": 108,
     "metadata": {},
     "output_type": "execute_result"
    }
   ],
   "source": [
    "t_nested"
   ]
  },
  {
   "cell_type": "code",
   "execution_count": 110,
   "id": "ca85ccd1",
   "metadata": {},
   "outputs": [
    {
     "name": "stdout",
     "output_type": "stream",
     "text": [
      "4\n"
     ]
    }
   ],
   "source": [
    "print(t_nested[0][3])"
   ]
  },
  {
   "cell_type": "code",
   "execution_count": 122,
   "id": "cb2bb243",
   "metadata": {},
   "outputs": [
    {
     "data": {
      "text/plain": [
       "('b', 'c')"
      ]
     },
     "execution_count": 122,
     "metadata": {},
     "output_type": "execute_result"
    }
   ],
   "source": [
    "t_nested[2][1:3]"
   ]
  },
  {
   "cell_type": "code",
   "execution_count": 123,
   "id": "a18e620c",
   "metadata": {},
   "outputs": [
    {
     "data": {
      "text/plain": [
       "[1, 2]"
      ]
     },
     "execution_count": 123,
     "metadata": {},
     "output_type": "execute_result"
    }
   ],
   "source": [
    "t_nested[3][0]"
   ]
  },
  {
   "cell_type": "code",
   "execution_count": 125,
   "id": "0134a885",
   "metadata": {},
   "outputs": [
    {
     "name": "stdout",
     "output_type": "stream",
     "text": [
      "1 2 3 4 \n",
      "5 6 7 8 \n",
      "a b c d \n",
      "[1, 2] [3, 4] \n"
     ]
    }
   ],
   "source": [
    "#Iterate through nested tuple\n",
    "for sub_tuple in t_nested:\n",
    "    for item in sub_tuple:\n",
    "        print(item,end=' ')\n",
    "    print()"
   ]
  },
  {
   "cell_type": "code",
   "execution_count": 129,
   "id": "8bfad62c",
   "metadata": {},
   "outputs": [
    {
     "name": "stdout",
     "output_type": "stream",
     "text": [
      "[[1, 7], [1, 23, 3], [4, 5]]\n"
     ]
    }
   ],
   "source": [
    "t=([1,23,3],[4,5],[1,7])\n",
    "\n",
    "print(sorted(t))"
   ]
  },
  {
   "cell_type": "code",
   "execution_count": 131,
   "id": "1473b290",
   "metadata": {},
   "outputs": [
    {
     "name": "stdout",
     "output_type": "stream",
     "text": [
      "['a', 'a', 'y', 'z']\n"
     ]
    }
   ],
   "source": [
    "print(sorted(('a','a','z','y')))"
   ]
  },
  {
   "cell_type": "code",
   "execution_count": 132,
   "id": "d53cac99",
   "metadata": {},
   "outputs": [
    {
     "name": "stdout",
     "output_type": "stream",
     "text": [
      "[[0, 1], [0, 2], [1, 2]]\n"
     ]
    }
   ],
   "source": [
    "print(sorted(([1,2],[0,1],[0,2])))"
   ]
  },
  {
   "cell_type": "code",
   "execution_count": 137,
   "id": "82943b59",
   "metadata": {},
   "outputs": [
    {
     "name": "stdout",
     "output_type": "stream",
     "text": [
      "ab\n"
     ]
    }
   ],
   "source": [
    "print(min('ac','ad','z','y','ab'))"
   ]
  },
  {
   "cell_type": "code",
   "execution_count": null,
   "id": "fcc307ac",
   "metadata": {},
   "outputs": [],
   "source": []
  }
 ],
 "metadata": {
  "kernelspec": {
   "display_name": "virt_env_dev",
   "language": "python",
   "name": "python3"
  },
  "language_info": {
   "codemirror_mode": {
    "name": "ipython",
    "version": 3
   },
   "file_extension": ".py",
   "mimetype": "text/x-python",
   "name": "python",
   "nbconvert_exporter": "python",
   "pygments_lexer": "ipython3",
   "version": "3.11.9"
  }
 },
 "nbformat": 4,
 "nbformat_minor": 5
}
