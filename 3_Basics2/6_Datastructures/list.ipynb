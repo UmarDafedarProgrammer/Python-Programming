{
 "cells": [
  {
   "cell_type": "markdown",
   "id": "44d00bbd",
   "metadata": {},
   "source": [
    "## list\n",
    "\n",
    "- Ordered - Each element in the list will have index and can be accessed using the index. They are maintained in the same order they are inserted\n",
    "- Mutable - Can be modified\n",
    "- Contain items of different data types\n",
    "- Allows duplicates"
   ]
  },
  {
   "cell_type": "code",
   "execution_count": 1,
   "id": "4c4f2ee6",
   "metadata": {},
   "outputs": [],
   "source": [
    "list_1 = [] # Creating Empty list"
   ]
  },
  {
   "cell_type": "code",
   "execution_count": 2,
   "id": "a7597ecb",
   "metadata": {},
   "outputs": [
    {
     "name": "stdout",
     "output_type": "stream",
     "text": [
      "<class 'list'>\n"
     ]
    }
   ],
   "source": [
    "# Type of the list\n",
    "print(type(list_1))"
   ]
  },
  {
   "cell_type": "code",
   "execution_count": null,
   "id": "732db50e",
   "metadata": {},
   "outputs": [
    {
     "name": "stdout",
     "output_type": "stream",
     "text": [
      "[]\n"
     ]
    }
   ],
   "source": [
    "print(list_1) # Empty list "
   ]
  },
  {
   "cell_type": "code",
   "execution_count": 7,
   "id": "018431c8",
   "metadata": {},
   "outputs": [],
   "source": [
    "# List index out of range as the list does not contain the index at which we are trying to access\n",
    "# list_1[1] "
   ]
  },
  {
   "cell_type": "markdown",
   "id": "2c824176",
   "metadata": {},
   "source": [
    "<!-- #### Access the list -->"
   ]
  },
  {
   "cell_type": "code",
   "execution_count": 8,
   "id": "ae4cea5e",
   "metadata": {},
   "outputs": [],
   "source": [
    "list_1 = [1,2,3,4,5,6]"
   ]
  },
  {
   "cell_type": "code",
   "execution_count": 9,
   "id": "a71c9947",
   "metadata": {},
   "outputs": [
    {
     "data": {
      "text/plain": [
       "[1, 2, 3, 4, 5, 6]"
      ]
     },
     "execution_count": 9,
     "metadata": {},
     "output_type": "execute_result"
    }
   ],
   "source": [
    "list_1"
   ]
  },
  {
   "cell_type": "markdown",
   "id": "eb417d48",
   "metadata": {},
   "source": [
    "##### List can contain duplicate items"
   ]
  },
  {
   "cell_type": "code",
   "execution_count": 10,
   "id": "3028d4b5",
   "metadata": {},
   "outputs": [],
   "source": [
    "list_duplicates = [1,2,1,2,3,3,4,1]"
   ]
  },
  {
   "cell_type": "code",
   "execution_count": 12,
   "id": "07f358f7",
   "metadata": {},
   "outputs": [
    {
     "data": {
      "text/plain": [
       "[1, 2, 1, 2, 3, 3, 4, 1]"
      ]
     },
     "execution_count": 12,
     "metadata": {},
     "output_type": "execute_result"
    }
   ],
   "source": [
    "list_duplicates"
   ]
  },
  {
   "cell_type": "markdown",
   "id": "5da31010",
   "metadata": {},
   "source": [
    "##### Mixed data type list"
   ]
  },
  {
   "cell_type": "code",
   "execution_count": 13,
   "id": "24a10530",
   "metadata": {},
   "outputs": [],
   "source": [
    "mixed_list = [1,3.4,\"hello\",True,'B',False, 1.2E+1]"
   ]
  },
  {
   "cell_type": "code",
   "execution_count": 14,
   "id": "ef2ff667",
   "metadata": {},
   "outputs": [
    {
     "data": {
      "text/plain": [
       "[1, 3.4, 'hello', True, 'B', False, 12.0]"
      ]
     },
     "execution_count": 14,
     "metadata": {},
     "output_type": "execute_result"
    }
   ],
   "source": [
    "mixed_list"
   ]
  },
  {
   "cell_type": "markdown",
   "id": "ea265bee",
   "metadata": {},
   "source": [
    "##### How to access the elements in the list"
   ]
  },
  {
   "cell_type": "code",
   "execution_count": 16,
   "id": "02038a48",
   "metadata": {},
   "outputs": [],
   "source": [
    "#Using index or iteration, we can access the items in the list\n",
    "list_sample = [1,2,\"Hello\",'C',3.45,True]"
   ]
  },
  {
   "cell_type": "code",
   "execution_count": null,
   "id": "c5b8a3c9",
   "metadata": {},
   "outputs": [
    {
     "data": {
      "text/plain": [
       "'Hello'"
      ]
     },
     "execution_count": 18,
     "metadata": {},
     "output_type": "execute_result"
    }
   ],
   "source": [
    "list_sample[2] # Hello is at the index 2"
   ]
  },
  {
   "cell_type": "code",
   "execution_count": null,
   "id": "e81a9793",
   "metadata": {},
   "outputs": [
    {
     "data": {
      "text/plain": [
       "[1, 2, 'Hello', 'C', 3.45, True]"
      ]
     },
     "execution_count": 19,
     "metadata": {},
     "output_type": "execute_result"
    }
   ],
   "source": [
    "list_sample[:] # Reads all the elements in the list with step as 1 by default"
   ]
  },
  {
   "cell_type": "code",
   "execution_count": null,
   "id": "8804a2eb",
   "metadata": {},
   "outputs": [
    {
     "data": {
      "text/plain": [
       "['Hello', 'C', 3.45, True]"
      ]
     },
     "execution_count": 20,
     "metadata": {},
     "output_type": "execute_result"
    }
   ],
   "source": [
    "list_sample[2:] # Reads from index 2 to the end"
   ]
  },
  {
   "cell_type": "code",
   "execution_count": 22,
   "id": "336e1b26",
   "metadata": {},
   "outputs": [
    {
     "data": {
      "text/plain": [
       "[1, 2, 'Hello', 'C']"
      ]
     },
     "execution_count": 22,
     "metadata": {},
     "output_type": "execute_result"
    }
   ],
   "source": [
    "list_sample[:4] # Reads the index from first element to (4-1) index"
   ]
  },
  {
   "cell_type": "code",
   "execution_count": 24,
   "id": "6a0b4f25",
   "metadata": {},
   "outputs": [
    {
     "data": {
      "text/plain": [
       "[1, 2, 'Hello', 'C', 3.45]"
      ]
     },
     "execution_count": 24,
     "metadata": {},
     "output_type": "execute_result"
    }
   ],
   "source": [
    "list_sample[:-1]"
   ]
  },
  {
   "cell_type": "code",
   "execution_count": null,
   "id": "bc9f7536",
   "metadata": {},
   "outputs": [
    {
     "data": {
      "text/plain": [
       "[1, 'Hello', 3.45]"
      ]
     },
     "execution_count": 25,
     "metadata": {},
     "output_type": "execute_result"
    }
   ],
   "source": [
    "list_sample[::2] # from the beginning to the end but with hops of 2"
   ]
  },
  {
   "cell_type": "code",
   "execution_count": null,
   "id": "e5ed10e3",
   "metadata": {},
   "outputs": [
    {
     "data": {
      "text/plain": [
       "[True, 'C', 2]"
      ]
     },
     "execution_count": 27,
     "metadata": {},
     "output_type": "execute_result"
    }
   ],
   "source": [
    "list_sample[::-2] # in Reverse with Hops of 2"
   ]
  },
  {
   "cell_type": "code",
   "execution_count": 28,
   "id": "ce000f0b",
   "metadata": {},
   "outputs": [
    {
     "data": {
      "text/plain": [
       "[True, 3.45, 'C', 'Hello', 2, 1]"
      ]
     },
     "execution_count": 28,
     "metadata": {},
     "output_type": "execute_result"
    }
   ],
   "source": [
    "list_sample[::-1]"
   ]
  },
  {
   "cell_type": "code",
   "execution_count": 33,
   "id": "cda50693",
   "metadata": {},
   "outputs": [
    {
     "name": "stdout",
     "output_type": "stream",
     "text": [
      "1, 2, Hello, C, 3.45, True, "
     ]
    }
   ],
   "source": [
    "#Using iteration we can retrieve the items\n",
    "for i in list_sample:\n",
    "    print(i,end=', ')"
   ]
  },
  {
   "cell_type": "code",
   "execution_count": 32,
   "id": "d9168dfe",
   "metadata": {},
   "outputs": [
    {
     "name": "stdout",
     "output_type": "stream",
     "text": [
      "(0, 1) (1, 2) (2, 'Hello') (3, 'C') (4, 3.45) (5, True) "
     ]
    }
   ],
   "source": [
    "#enumerate is the special function which returns both index and the corresponding items\n",
    "for index,item in enumerate(list_sample):\n",
    "    print((index,item), end=' ')"
   ]
  },
  {
   "cell_type": "markdown",
   "id": "85b5b2dc",
   "metadata": {},
   "source": [
    "##### In-Built Functions"
   ]
  },
  {
   "cell_type": "markdown",
   "id": "3b1a0d4a",
   "metadata": {},
   "source": [
    "##### 1. append(item/list)"
   ]
  },
  {
   "cell_type": "code",
   "execution_count": 35,
   "id": "17b913a9",
   "metadata": {},
   "outputs": [
    {
     "name": "stdout",
     "output_type": "stream",
     "text": [
      "[1, 2, 3, 5, 2, 3, 4]\n"
     ]
    }
   ],
   "source": [
    "list1 = [1,2,3,5,2,3,4]\n",
    "print(list1)"
   ]
  },
  {
   "cell_type": "code",
   "execution_count": 36,
   "id": "69097e39",
   "metadata": {},
   "outputs": [],
   "source": [
    "list2=['a','b','c']"
   ]
  },
  {
   "cell_type": "code",
   "execution_count": 38,
   "id": "4933781b",
   "metadata": {},
   "outputs": [],
   "source": [
    "# Add an individual item to the list\n",
    "list1.append(99)"
   ]
  },
  {
   "cell_type": "code",
   "execution_count": 40,
   "id": "185d7c38",
   "metadata": {},
   "outputs": [
    {
     "data": {
      "text/plain": [
       "[1, 2, 3, 5, 2, 3, 4, 99]"
      ]
     },
     "execution_count": 40,
     "metadata": {},
     "output_type": "execute_result"
    }
   ],
   "source": [
    "list1 #We could see 99 is added/appended at the end"
   ]
  },
  {
   "cell_type": "code",
   "execution_count": null,
   "id": "7c7bea58",
   "metadata": {},
   "outputs": [],
   "source": [
    "list1.append(list2) # list is appended as an item"
   ]
  },
  {
   "cell_type": "code",
   "execution_count": 42,
   "id": "a2e140b7",
   "metadata": {},
   "outputs": [
    {
     "data": {
      "text/plain": [
       "[1, 2, 3, 5, 2, 3, 4, 99, ['a', 'b', 'c']]"
      ]
     },
     "execution_count": 42,
     "metadata": {},
     "output_type": "execute_result"
    }
   ],
   "source": [
    "list1"
   ]
  },
  {
   "cell_type": "code",
   "execution_count": 54,
   "id": "d8b4d911",
   "metadata": {},
   "outputs": [],
   "source": [
    "list1.append((5,6)) # tuple is added"
   ]
  },
  {
   "cell_type": "code",
   "execution_count": 57,
   "id": "26037355",
   "metadata": {},
   "outputs": [
    {
     "data": {
      "text/plain": [
       "[1, 2, 3, 5, 2, 3, 4, 99, ['a', 'b', 'c'], (5, 6)]"
      ]
     },
     "execution_count": 57,
     "metadata": {},
     "output_type": "execute_result"
    }
   ],
   "source": [
    "list1"
   ]
  },
  {
   "cell_type": "code",
   "execution_count": 63,
   "id": "c0d52472",
   "metadata": {},
   "outputs": [],
   "source": [
    "list1.append(\"Hello\")"
   ]
  },
  {
   "cell_type": "code",
   "execution_count": 66,
   "id": "011383f5",
   "metadata": {},
   "outputs": [
    {
     "data": {
      "text/plain": [
       "[1, 2, 3, 5, 2, 3, 4, 99, ['a', 'b', 'c'], (5, 6), 'Hello']"
      ]
     },
     "execution_count": 66,
     "metadata": {},
     "output_type": "execute_result"
    }
   ],
   "source": [
    "list1"
   ]
  },
  {
   "cell_type": "code",
   "execution_count": 67,
   "id": "be9813a0",
   "metadata": {},
   "outputs": [],
   "source": [
    "list3 = [99,100,101]"
   ]
  },
  {
   "cell_type": "markdown",
   "id": "6e5b5ebd",
   "metadata": {},
   "source": [
    "##### 2. extend(list):  to include the individual items and not the entire list as an item"
   ]
  },
  {
   "cell_type": "code",
   "execution_count": null,
   "id": "e0ba6a94",
   "metadata": {},
   "outputs": [],
   "source": [
    "list1.extend(list3) # Add items of list3 as individual items and not the list3 itself as an item"
   ]
  },
  {
   "cell_type": "code",
   "execution_count": 70,
   "id": "ee257100",
   "metadata": {},
   "outputs": [
    {
     "data": {
      "text/plain": [
       "[1, 2, 3, 5, 2, 3, 4, 99, ['a', 'b', 'c'], (5, 6), 'Hello', 99, 100, 101]"
      ]
     },
     "execution_count": 70,
     "metadata": {},
     "output_type": "execute_result"
    }
   ],
   "source": [
    "list1"
   ]
  },
  {
   "cell_type": "markdown",
   "id": "bc4753d5",
   "metadata": {},
   "source": [
    "##### 3. insert(index, value)"
   ]
  },
  {
   "cell_type": "code",
   "execution_count": 71,
   "id": "73b5219d",
   "metadata": {},
   "outputs": [
    {
     "data": {
      "text/plain": [
       "[1, 2, 3, 5, 2, 3, 4, 99, ['a', 'b', 'c'], (5, 6), 'Hello', 99, 100, 101]"
      ]
     },
     "execution_count": 71,
     "metadata": {},
     "output_type": "execute_result"
    }
   ],
   "source": [
    "list1"
   ]
  },
  {
   "cell_type": "code",
   "execution_count": 72,
   "id": "5df7c5a2",
   "metadata": {},
   "outputs": [],
   "source": [
    "list1.insert(5,1000)"
   ]
  },
  {
   "cell_type": "code",
   "execution_count": 73,
   "id": "ff25991a",
   "metadata": {},
   "outputs": [
    {
     "name": "stdout",
     "output_type": "stream",
     "text": [
      "[1, 2, 3, 5, 2, 1000, 3, 4, 99, ['a', 'b', 'c'], (5, 6), 'Hello', 99, 100, 101]\n"
     ]
    }
   ],
   "source": [
    "print(list1)"
   ]
  },
  {
   "cell_type": "code",
   "execution_count": 75,
   "id": "67707bcc",
   "metadata": {},
   "outputs": [],
   "source": [
    "list1.insert(7,[2,3])"
   ]
  },
  {
   "cell_type": "code",
   "execution_count": 77,
   "id": "890a395f",
   "metadata": {},
   "outputs": [
    {
     "name": "stdout",
     "output_type": "stream",
     "text": [
      "[1, 2, 3, 5, 2, 1000, 3, [2, 3], 4, 99, ['a', 'b', 'c'], (5, 6), 'Hello', 99, 100, 101]\n"
     ]
    }
   ],
   "source": [
    "print(list1)"
   ]
  },
  {
   "cell_type": "markdown",
   "id": "a092f20d",
   "metadata": {},
   "source": [
    "##### Removing elements"
   ]
  },
  {
   "cell_type": "markdown",
   "id": "face379a",
   "metadata": {},
   "source": [
    "##### 4. value=pop() \n",
    "Removes the last element and returns the value"
   ]
  },
  {
   "cell_type": "code",
   "execution_count": 80,
   "id": "02a5be07",
   "metadata": {},
   "outputs": [
    {
     "name": "stdout",
     "output_type": "stream",
     "text": [
      "[1, 2, 3, 5, 2, 1000, 3, [2, 3], 4, 99, ['a', 'b', 'c'], (5, 6), 'Hello', 99, 100, 101]\n"
     ]
    }
   ],
   "source": [
    "print(list1)"
   ]
  },
  {
   "cell_type": "code",
   "execution_count": 81,
   "id": "d10bdc4f",
   "metadata": {},
   "outputs": [],
   "source": [
    "popped_value=list1.pop()"
   ]
  },
  {
   "cell_type": "code",
   "execution_count": 82,
   "id": "7f1d0ae6",
   "metadata": {},
   "outputs": [
    {
     "name": "stdout",
     "output_type": "stream",
     "text": [
      "101\n",
      "[1, 2, 3, 5, 2, 1000, 3, [2, 3], 4, 99, ['a', 'b', 'c'], (5, 6), 'Hello', 99, 100]\n"
     ]
    }
   ],
   "source": [
    "print(popped_value)\n",
    "print(list1)"
   ]
  },
  {
   "cell_type": "markdown",
   "id": "2e1ef344",
   "metadata": {},
   "source": [
    "##### 5. value = list.pop(index)"
   ]
  },
  {
   "cell_type": "code",
   "execution_count": 83,
   "id": "858206ea",
   "metadata": {},
   "outputs": [
    {
     "name": "stdout",
     "output_type": "stream",
     "text": [
      "[1, 2, 3, 5, 2, 1000, 3, 4, 99, ['a', 'b', 'c'], (5, 6), 'Hello', 99, 100]\n",
      "[2, 3]\n"
     ]
    }
   ],
   "source": [
    "popped_value_by_index=list1.pop(7)\n",
    "print(list1)\n",
    "print(popped_value_by_index)"
   ]
  },
  {
   "cell_type": "markdown",
   "id": "539c0b3a",
   "metadata": {},
   "source": [
    "##### 6. remove(value)\n",
    "\n",
    "Removes the first element in the list"
   ]
  },
  {
   "cell_type": "code",
   "execution_count": 84,
   "id": "d5d4d1b6",
   "metadata": {},
   "outputs": [],
   "source": [
    "value=list1.remove(2)"
   ]
  },
  {
   "cell_type": "code",
   "execution_count": 86,
   "id": "52c34c8a",
   "metadata": {},
   "outputs": [
    {
     "name": "stdout",
     "output_type": "stream",
     "text": [
      "None\n",
      "[1, 3, 5, 2, 1000, 3, 4, 99, ['a', 'b', 'c'], (5, 6), 'Hello', 99, 100]\n"
     ]
    }
   ],
   "source": [
    "print(value) #Does not return\n",
    "print(list1)"
   ]
  },
  {
   "cell_type": "code",
   "execution_count": 87,
   "id": "27092bc4",
   "metadata": {},
   "outputs": [
    {
     "name": "stdout",
     "output_type": "stream",
     "text": [
      "[1, 3, 5, 2, 1000, 3, 4, 99, ['a', 'b', 'c'], 'Hello', 99, 100]\n"
     ]
    }
   ],
   "source": [
    "list1.remove((5,6))\n",
    "print(list1)"
   ]
  },
  {
   "cell_type": "markdown",
   "id": "75023aa8",
   "metadata": {},
   "source": [
    "##### 7.clear()\n",
    "\n",
    "clears all the elements"
   ]
  },
  {
   "cell_type": "code",
   "execution_count": 88,
   "id": "e58d74fa",
   "metadata": {},
   "outputs": [],
   "source": [
    "list1.clear()"
   ]
  },
  {
   "cell_type": "code",
   "execution_count": 89,
   "id": "0c089c7f",
   "metadata": {},
   "outputs": [
    {
     "name": "stdout",
     "output_type": "stream",
     "text": [
      "[]\n"
     ]
    }
   ],
   "source": [
    "print(list1)"
   ]
  },
  {
   "cell_type": "markdown",
   "id": "1d4f2f78",
   "metadata": {},
   "source": [
    "#### Searching and Counting"
   ]
  },
  {
   "cell_type": "markdown",
   "id": "53c36ce3",
   "metadata": {},
   "source": [
    "##### 8.index(element) "
   ]
  },
  {
   "cell_type": "code",
   "execution_count": 92,
   "id": "b1b92325",
   "metadata": {},
   "outputs": [],
   "source": [
    "list1 = [0,1,2,3,4,5,6,7,2,3,4]"
   ]
  },
  {
   "cell_type": "code",
   "execution_count": 93,
   "id": "17b79f57",
   "metadata": {},
   "outputs": [
    {
     "name": "stdout",
     "output_type": "stream",
     "text": [
      "3\n"
     ]
    }
   ],
   "source": [
    "print(list1.index(3))"
   ]
  },
  {
   "cell_type": "markdown",
   "id": "15cb2c0c",
   "metadata": {},
   "source": [
    "##### 9. count(element)"
   ]
  },
  {
   "cell_type": "code",
   "execution_count": 94,
   "id": "600d6966",
   "metadata": {},
   "outputs": [
    {
     "name": "stdout",
     "output_type": "stream",
     "text": [
      "2\n"
     ]
    }
   ],
   "source": [
    "print(list1.count(4))"
   ]
  },
  {
   "cell_type": "markdown",
   "id": "f6de286c",
   "metadata": {},
   "source": [
    "#### Sorting and Reversing"
   ]
  },
  {
   "cell_type": "markdown",
   "id": "4e6ce905",
   "metadata": {},
   "source": [
    "##### 10. sort()"
   ]
  },
  {
   "cell_type": "code",
   "execution_count": 97,
   "id": "826c22c1",
   "metadata": {},
   "outputs": [],
   "source": [
    "list1.sort()"
   ]
  },
  {
   "cell_type": "code",
   "execution_count": 98,
   "id": "7bab3a16",
   "metadata": {},
   "outputs": [
    {
     "name": "stdout",
     "output_type": "stream",
     "text": [
      "[0, 1, 2, 2, 3, 3, 4, 4, 5, 6, 7]\n"
     ]
    }
   ],
   "source": [
    "print(list1)"
   ]
  },
  {
   "cell_type": "markdown",
   "id": "18888b24",
   "metadata": {},
   "source": [
    "##### 11. sort(reverse=True)"
   ]
  },
  {
   "cell_type": "code",
   "execution_count": 100,
   "id": "b0980177",
   "metadata": {},
   "outputs": [],
   "source": [
    "list1.sort(reverse=True)"
   ]
  },
  {
   "cell_type": "code",
   "execution_count": 101,
   "id": "4355099b",
   "metadata": {},
   "outputs": [
    {
     "name": "stdout",
     "output_type": "stream",
     "text": [
      "[7, 6, 5, 4, 4, 3, 3, 2, 2, 1, 0]\n"
     ]
    }
   ],
   "source": [
    "print(list1)"
   ]
  },
  {
   "cell_type": "markdown",
   "id": "348ed230",
   "metadata": {},
   "source": [
    "##### 12. reverse()"
   ]
  },
  {
   "cell_type": "code",
   "execution_count": 102,
   "id": "9b787760",
   "metadata": {},
   "outputs": [],
   "source": [
    "list1.reverse()"
   ]
  },
  {
   "cell_type": "code",
   "execution_count": 104,
   "id": "a05f30ae",
   "metadata": {},
   "outputs": [
    {
     "name": "stdout",
     "output_type": "stream",
     "text": [
      "[0, 1, 2, 2, 3, 3, 4, 4, 5, 6, 7]\n"
     ]
    }
   ],
   "source": [
    "print(list1)"
   ]
  },
  {
   "cell_type": "markdown",
   "id": "ce986d0b",
   "metadata": {},
   "source": [
    "#### Deep copy\n",
    "copy()"
   ]
  },
  {
   "cell_type": "code",
   "execution_count": 105,
   "id": "e4055bb7",
   "metadata": {},
   "outputs": [],
   "source": [
    "list2=list1.copy()"
   ]
  },
  {
   "cell_type": "code",
   "execution_count": 107,
   "id": "fa1d7ff4",
   "metadata": {},
   "outputs": [
    {
     "name": "stdout",
     "output_type": "stream",
     "text": [
      "[0, 1, 2, 2, 3, 3, 4, 4, 5, 6, 7]\n",
      "[0, 1, 2, 2, 3, 3, 4, 4, 5, 6, 7]\n"
     ]
    }
   ],
   "source": [
    "print(list1)\n",
    "print(list2)"
   ]
  },
  {
   "cell_type": "code",
   "execution_count": 108,
   "id": "262a0cb1",
   "metadata": {},
   "outputs": [],
   "source": [
    "list1[3]=10"
   ]
  },
  {
   "cell_type": "code",
   "execution_count": 109,
   "id": "c82158b2",
   "metadata": {},
   "outputs": [
    {
     "name": "stdout",
     "output_type": "stream",
     "text": [
      "[0, 1, 2, 10, 3, 3, 4, 4, 5, 6, 7]\n",
      "[0, 1, 2, 2, 3, 3, 4, 4, 5, 6, 7]\n"
     ]
    }
   ],
   "source": [
    "print(list1)\n",
    "print(list2)"
   ]
  },
  {
   "cell_type": "markdown",
   "id": "697dd3bc",
   "metadata": {},
   "source": [
    "#### Other utlitities"
   ]
  },
  {
   "cell_type": "code",
   "execution_count": 111,
   "id": "34ae0a0f",
   "metadata": {},
   "outputs": [
    {
     "data": {
      "text/plain": [
       "11"
      ]
     },
     "execution_count": 111,
     "metadata": {},
     "output_type": "execute_result"
    }
   ],
   "source": [
    "len(list1)"
   ]
  },
  {
   "cell_type": "code",
   "execution_count": 112,
   "id": "fbfe9bfc",
   "metadata": {},
   "outputs": [
    {
     "data": {
      "text/plain": [
       "10"
      ]
     },
     "execution_count": 112,
     "metadata": {},
     "output_type": "execute_result"
    }
   ],
   "source": [
    "max(list1)"
   ]
  },
  {
   "cell_type": "code",
   "execution_count": 113,
   "id": "e43aabd9",
   "metadata": {},
   "outputs": [
    {
     "data": {
      "text/plain": [
       "0"
      ]
     },
     "execution_count": 113,
     "metadata": {},
     "output_type": "execute_result"
    }
   ],
   "source": [
    "min(list1)"
   ]
  },
  {
   "cell_type": "code",
   "execution_count": 114,
   "id": "adece2d2",
   "metadata": {},
   "outputs": [
    {
     "data": {
      "text/plain": [
       "45"
      ]
     },
     "execution_count": 114,
     "metadata": {},
     "output_type": "execute_result"
    }
   ],
   "source": [
    "sum(list1)"
   ]
  },
  {
   "cell_type": "code",
   "execution_count": 115,
   "id": "c9feaf85",
   "metadata": {},
   "outputs": [],
   "source": [
    "list_mixed=['a','c','b',9,5,3,10,True, False]"
   ]
  },
  {
   "cell_type": "code",
   "execution_count": 120,
   "id": "0d5873cb",
   "metadata": {},
   "outputs": [],
   "source": [
    "# list_mixed.sort() It does not work on the mixed list"
   ]
  },
  {
   "cell_type": "code",
   "execution_count": 121,
   "id": "5be6d051",
   "metadata": {},
   "outputs": [
    {
     "data": {
      "text/plain": [
       "9"
      ]
     },
     "execution_count": 121,
     "metadata": {},
     "output_type": "execute_result"
    }
   ],
   "source": [
    "len(list_mixed)"
   ]
  },
  {
   "cell_type": "code",
   "execution_count": 122,
   "id": "d83a65d1",
   "metadata": {},
   "outputs": [],
   "source": [
    "list_char=['d','a','n','o']"
   ]
  },
  {
   "cell_type": "code",
   "execution_count": 123,
   "id": "716470df",
   "metadata": {},
   "outputs": [],
   "source": [
    "list_char.sort()"
   ]
  },
  {
   "cell_type": "code",
   "execution_count": 124,
   "id": "369c8795",
   "metadata": {},
   "outputs": [
    {
     "name": "stdout",
     "output_type": "stream",
     "text": [
      "['a', 'd', 'n', 'o']\n"
     ]
    }
   ],
   "source": [
    "print(list_char)"
   ]
  },
  {
   "cell_type": "code",
   "execution_count": 125,
   "id": "4f13f02f",
   "metadata": {},
   "outputs": [],
   "source": [
    "list_str=['hello','whatsup','how are you']"
   ]
  },
  {
   "cell_type": "code",
   "execution_count": 126,
   "id": "1ea01d4d",
   "metadata": {},
   "outputs": [],
   "source": [
    "list_str.sort()"
   ]
  },
  {
   "cell_type": "code",
   "execution_count": 127,
   "id": "30687e66",
   "metadata": {},
   "outputs": [
    {
     "data": {
      "text/plain": [
       "['hello', 'how are you', 'whatsup']"
      ]
     },
     "execution_count": 127,
     "metadata": {},
     "output_type": "execute_result"
    }
   ],
   "source": [
    "list_str"
   ]
  },
  {
   "cell_type": "code",
   "execution_count": 128,
   "id": "9c59124f",
   "metadata": {},
   "outputs": [],
   "source": [
    "list_tupels=[(0,2),(3,4),(0,3)]"
   ]
  },
  {
   "cell_type": "code",
   "execution_count": 129,
   "id": "5d5649ad",
   "metadata": {},
   "outputs": [],
   "source": [
    "list_tupels.sort()"
   ]
  },
  {
   "cell_type": "code",
   "execution_count": 130,
   "id": "30d9e4f5",
   "metadata": {},
   "outputs": [
    {
     "data": {
      "text/plain": [
       "[(0, 2), (0, 3), (3, 4)]"
      ]
     },
     "execution_count": 130,
     "metadata": {},
     "output_type": "execute_result"
    }
   ],
   "source": [
    "list_tupels"
   ]
  },
  {
   "cell_type": "code",
   "execution_count": null,
   "id": "6f1d6bcc",
   "metadata": {},
   "outputs": [],
   "source": []
  }
 ],
 "metadata": {
  "kernelspec": {
   "display_name": "virt_env_dev",
   "language": "python",
   "name": "python3"
  },
  "language_info": {
   "codemirror_mode": {
    "name": "ipython",
    "version": 3
   },
   "file_extension": ".py",
   "mimetype": "text/x-python",
   "name": "python",
   "nbconvert_exporter": "python",
   "pygments_lexer": "ipython3",
   "version": "3.11.9"
  }
 },
 "nbformat": 4,
 "nbformat_minor": 5
}
