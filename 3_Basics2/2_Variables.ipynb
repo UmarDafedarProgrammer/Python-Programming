{
 "cells": [
  {
   "cell_type": "markdown",
   "id": "c311421a",
   "metadata": {},
   "source": [
    "Variables\n",
    "---------------------\n",
    "\n",
    "In Python, variables are names (aliases) that reference objects stored in memory.\n",
    "\n",
    "The variable itself does not hold the data directly; it points to or refers to the actual object in memory.\n",
    "\n",
    "Multiple variables can point to the same object (aliasing)."
   ]
  },
  {
   "cell_type": "code",
   "execution_count": 4,
   "id": "c3d61cf2",
   "metadata": {},
   "outputs": [],
   "source": [
    "# Declaring a Variable\n",
    "\n",
    "i = 10\n",
    "f = 3.142\n",
    "s = \"Umar\"\n",
    "b = True"
   ]
  },
  {
   "cell_type": "code",
   "execution_count": 5,
   "id": "3edc3327",
   "metadata": {},
   "outputs": [
    {
     "name": "stdout",
     "output_type": "stream",
     "text": [
      "10\n",
      "3.142\n",
      "Umar\n",
      "a\n",
      "True\n"
     ]
    }
   ],
   "source": [
    "# Access the value stroed in the variables\n",
    "\n",
    "print(i)\n",
    "print(f)\n",
    "print(s)\n",
    "print(s[2])\n",
    "print(b)"
   ]
  },
  {
   "cell_type": "code",
   "execution_count": 11,
   "id": "04ef5284",
   "metadata": {},
   "outputs": [
    {
     "name": "stdout",
     "output_type": "stream",
     "text": [
      "28\n",
      "24\n",
      "53\n",
      "28\n"
     ]
    }
   ],
   "source": [
    "import sys\n",
    "\n",
    "# Trying to read the size of the memory allotted\n",
    "\n",
    "print(sys.getsizeof(i))\n",
    "print(sys.getsizeof(f))\n",
    "print(sys.getsizeof(s))\n",
    "print(sys.getsizeof(b))\n"
   ]
  },
  {
   "cell_type": "code",
   "execution_count": 14,
   "id": "34ccd649",
   "metadata": {},
   "outputs": [
    {
     "name": "stdout",
     "output_type": "stream",
     "text": [
      "Memory address pointed by i :0x7ffe0e097448\n",
      "Memory address pointed by f :0x25275d8f1b0\n",
      "Memory address pointed by s :0x252783c9870\n",
      "Memory address pointed by s[0] :0x7ffe0e0a2460\n",
      "Memory address pointed by b :0x7ffe0df21ba8\n"
     ]
    }
   ],
   "source": [
    "# Read the memory address of the variables pointing to\n",
    "\n",
    "print(f\"Memory address pointed by i :{hex(id(i))}\")\n",
    "print(f\"Memory address pointed by f :{hex(id(f))}\")\n",
    "print(f\"Memory address pointed by s :{hex(id(s))}\")\n",
    "print(f\"Memory address pointed by s[0] :{hex(id(s[0]))}\")\n",
    "print(f\"Memory address pointed by b :{hex(id(b))}\")"
   ]
  },
  {
   "cell_type": "code",
   "execution_count": 16,
   "id": "f2f91158",
   "metadata": {},
   "outputs": [
    {
     "name": "stdout",
     "output_type": "stream",
     "text": [
      "Name: Umar\n",
      "name: UmarDafedar\n"
     ]
    }
   ],
   "source": [
    "# Case Sensitive\n",
    "Name=\"Umar\"\n",
    "name=\"UmarDafedar\"\n",
    "\n",
    "print(f\"Name: {Name}\")\n",
    "print(f\"name: {name}\")"
   ]
  },
  {
   "cell_type": "code",
   "execution_count": 21,
   "id": "799a2b07",
   "metadata": {},
   "outputs": [
    {
     "name": "stdout",
     "output_type": "stream",
     "text": [
      "Umar Dafedar 123Name\n"
     ]
    }
   ],
   "source": [
    "#Invalid Variable names\n",
    "# 1_name = \"Umar\" --invalid decimal literal\n",
    "# @name = \"Umar\" -- invalid syntax. Maybe you meant '==' or ':=' instead of '='?\n",
    "# name_|23 = \"Umar\" --cannot assign to expression here. Maybe you meant '==' instead of '='?\n",
    "\n",
    "#Valid Variable Names\n",
    "valid_name = \"Umar\"\n",
    "_valid_name = \"Dafedar\"\n",
    "valid_name123 = \"123Name\"\n",
    "\n",
    "print(valid_name, _valid_name, valid_name123)\n"
   ]
  },
  {
   "cell_type": "code",
   "execution_count": 25,
   "id": "14d04b7d",
   "metadata": {},
   "outputs": [
    {
     "name": "stdout",
     "output_type": "stream",
     "text": [
      "value of i: 10 | Type of i: <class 'int'>\n",
      "value of i: UVCE | Type of i: <class 'str'>\n",
      "value of i: 3.1234 | Type of i: <class 'float'>\n",
      "value of i: True | Type of i: <class 'bool'>\n"
     ]
    }
   ],
   "source": [
    "i = 10 # at the run time the type is assigned, based on the value\n",
    "print(f\"value of i: {i} | Type of i: {type(i)}\")\n",
    "\n",
    "i = \"UVCE\"\n",
    "print(f\"value of i: {i} | Type of i: {type(i)}\")\n",
    "\n",
    "i = 3.1234\n",
    "print(f\"value of i: {i} | Type of i: {type(i)}\")\n",
    "\n",
    "i = True\n",
    "print(f\"value of i: {i} | Type of i: {type(i)}\")"
   ]
  },
  {
   "cell_type": "code",
   "execution_count": null,
   "id": "129f49f7",
   "metadata": {},
   "outputs": [],
   "source": [
    "\n"
   ]
  },
  {
   "cell_type": "code",
   "execution_count": null,
   "id": "9fcf034b",
   "metadata": {},
   "outputs": [],
   "source": []
  },
  {
   "cell_type": "code",
   "execution_count": null,
   "id": "6b2083c5",
   "metadata": {},
   "outputs": [],
   "source": []
  },
  {
   "cell_type": "code",
   "execution_count": null,
   "id": "4143cc2e",
   "metadata": {},
   "outputs": [],
   "source": []
  },
  {
   "cell_type": "code",
   "execution_count": null,
   "id": "97833e99",
   "metadata": {},
   "outputs": [],
   "source": []
  },
  {
   "cell_type": "code",
   "execution_count": null,
   "id": "43106c92",
   "metadata": {},
   "outputs": [],
   "source": []
  },
  {
   "cell_type": "code",
   "execution_count": null,
   "id": "b63cd896",
   "metadata": {},
   "outputs": [],
   "source": []
  },
  {
   "cell_type": "code",
   "execution_count": null,
   "id": "28c385d6",
   "metadata": {},
   "outputs": [],
   "source": []
  },
  {
   "cell_type": "code",
   "execution_count": null,
   "id": "3084b307",
   "metadata": {},
   "outputs": [],
   "source": []
  }
 ],
 "metadata": {
  "kernelspec": {
   "display_name": "virt_env_dev",
   "language": "python",
   "name": "python3"
  },
  "language_info": {
   "codemirror_mode": {
    "name": "ipython",
    "version": 3
   },
   "file_extension": ".py",
   "mimetype": "text/x-python",
   "name": "python",
   "nbconvert_exporter": "python",
   "pygments_lexer": "ipython3",
   "version": "3.11.9"
  }
 },
 "nbformat": 4,
 "nbformat_minor": 5
}
