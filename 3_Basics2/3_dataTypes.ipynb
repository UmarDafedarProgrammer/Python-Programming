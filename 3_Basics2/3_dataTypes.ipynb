{
 "cells": [
  {
   "cell_type": "markdown",
   "id": "2ee27be4",
   "metadata": {},
   "source": [
    "# Data Types\n",
    "\n",
    "1. Data Type specifies the type of data which can be stored in the memory and type of operations allowed on the variable\n",
    "2. Python is dynamically typed language, it means the type of variable is identified at the run time.\n",
    "3. Depends on the value assigned the data type is attached\n",
    "4. It indicates the amount of memory required to store the data\n",
    "5. Dynamic Typing: At the run time, the type of variable might change\n",
    "6. No Need to explicitly specify the data type\n",
    "\n",
    "# Type of data\n",
    "1. Numbers: int, float, complex, bool\n",
    "2. Text: str\n",
    "3. Sequences: list, tuple, range, str\n",
    "4. Sets: set, frozenset\n",
    "5. Mappings: dict\n",
    "6. Binary: bytes, bytearray, memoryview\n",
    "7. Special: NoneType (for None)"
   ]
  },
  {
   "cell_type": "code",
   "execution_count": 1,
   "id": "98f11386",
   "metadata": {},
   "outputs": [],
   "source": [
    "#Default values\n",
    "i = int()\n",
    "f = float()\n",
    "s = str()\n",
    "b = bool()"
   ]
  },
  {
   "cell_type": "code",
   "execution_count": 3,
   "id": "d2b83404",
   "metadata": {},
   "outputs": [
    {
     "name": "stdout",
     "output_type": "stream",
     "text": [
      "0\n",
      "0.0\n",
      "\n",
      "False\n"
     ]
    }
   ],
   "source": [
    "print(i) # 0\n",
    "print(f) # 0.0\n",
    "print(s) # Empty String\n",
    "print(b) # False"
   ]
  },
  {
   "cell_type": "code",
   "execution_count": 5,
   "id": "841f07c8",
   "metadata": {},
   "outputs": [],
   "source": [
    "# ii -> name 'ii' is not defined. Value need to be assigned to the variable to define\n"
   ]
  },
  {
   "cell_type": "code",
   "execution_count": 7,
   "id": "371fa1f3",
   "metadata": {},
   "outputs": [
    {
     "name": "stdout",
     "output_type": "stream",
     "text": [
      "<class 'int'>\n",
      "<class 'float'>\n",
      "<class 'bool'>\n",
      "<class 'str'>\n"
     ]
    }
   ],
   "source": [
    "# Identify the type of data using type()\n",
    "print(type(i))\n",
    "print(type(f))\n",
    "print(type(b))\n",
    "print(type(s))"
   ]
  },
  {
   "cell_type": "code",
   "execution_count": 8,
   "id": "5134371d",
   "metadata": {},
   "outputs": [
    {
     "name": "stdout",
     "output_type": "stream",
     "text": [
      "28\n",
      "24\n",
      "49\n",
      "28\n"
     ]
    }
   ],
   "source": [
    "import sys\n",
    "\n",
    "# Trying to read the size of the memory allotted\n",
    "\n",
    "print(sys.getsizeof(i))\n",
    "print(sys.getsizeof(f))\n",
    "print(sys.getsizeof(s))\n",
    "print(sys.getsizeof(b))\n"
   ]
  },
  {
   "cell_type": "code",
   "execution_count": 10,
   "id": "98087ddf",
   "metadata": {},
   "outputs": [
    {
     "name": "stdout",
     "output_type": "stream",
     "text": [
      "0x7ffe0e097308\n",
      "0x24edfd46f70\n",
      "0x7ffe0e09c6e0\n",
      "0x7ffe0df21bc8\n"
     ]
    }
   ],
   "source": [
    "# Try to read the memory address\n",
    "print(hex(id(i)))\n",
    "print(hex(id(f)))\n",
    "print(hex(id(s)))\n",
    "print(hex(id(b)))"
   ]
  },
  {
   "cell_type": "code",
   "execution_count": 11,
   "id": "68be4a49",
   "metadata": {},
   "outputs": [
    {
     "name": "stdout",
     "output_type": "stream",
     "text": [
      "140729133921032\n"
     ]
    }
   ],
   "source": [
    "print(id(i))"
   ]
  },
  {
   "cell_type": "code",
   "execution_count": null,
   "id": "129393d6",
   "metadata": {},
   "outputs": [],
   "source": []
  },
  {
   "cell_type": "code",
   "execution_count": null,
   "id": "f8e3d502",
   "metadata": {},
   "outputs": [],
   "source": []
  },
  {
   "cell_type": "code",
   "execution_count": null,
   "id": "cbc2495c",
   "metadata": {},
   "outputs": [],
   "source": []
  },
  {
   "cell_type": "code",
   "execution_count": null,
   "id": "9aee999a",
   "metadata": {},
   "outputs": [],
   "source": []
  },
  {
   "cell_type": "code",
   "execution_count": null,
   "id": "a1a50686",
   "metadata": {},
   "outputs": [],
   "source": []
  },
  {
   "cell_type": "code",
   "execution_count": null,
   "id": "cad16319",
   "metadata": {},
   "outputs": [],
   "source": []
  },
  {
   "cell_type": "code",
   "execution_count": null,
   "id": "2b353b4f",
   "metadata": {},
   "outputs": [],
   "source": []
  },
  {
   "cell_type": "code",
   "execution_count": null,
   "id": "7c40130f",
   "metadata": {},
   "outputs": [],
   "source": []
  }
 ],
 "metadata": {
  "kernelspec": {
   "display_name": "virt_env_dev",
   "language": "python",
   "name": "python3"
  },
  "language_info": {
   "codemirror_mode": {
    "name": "ipython",
    "version": 3
   },
   "file_extension": ".py",
   "mimetype": "text/x-python",
   "name": "python",
   "nbconvert_exporter": "python",
   "pygments_lexer": "ipython3",
   "version": "3.11.9"
  }
 },
 "nbformat": 4,
 "nbformat_minor": 5
}
