{
 "cells": [
  {
   "cell_type": "markdown",
   "id": "f992f885",
   "metadata": {},
   "source": [
    "##### Lambda Function\n",
    "\n",
    "1. A Special, anonymous function\n",
    "2. A Function without name\n",
    "3. They can have many number of arguments\n",
    "4. Only one/Single expression\n",
    "5. lambda keyword is required\n",
    "6. always returns the value of the expression\n",
    "7. Less readable for complex logic\n",
    "8. Short, throwaway functions"
   ]
  },
  {
   "cell_type": "code",
   "execution_count": null,
   "id": "ae79edd1",
   "metadata": {},
   "outputs": [],
   "source": [
    "#Keyword arguments in lambda function\n",
    "add= lambda **kwargs:kwargs.get('x',0)+kwargs.get('y',0)"
   ]
  },
  {
   "cell_type": "code",
   "execution_count": 8,
   "id": "617f14e0",
   "metadata": {},
   "outputs": [
    {
     "name": "stdout",
     "output_type": "stream",
     "text": [
      "<class 'function'>\n"
     ]
    }
   ],
   "source": [
    "print(type(add))"
   ]
  },
  {
   "cell_type": "code",
   "execution_count": 9,
   "id": "e495f6d7",
   "metadata": {},
   "outputs": [
    {
     "data": {
      "text/plain": [
       "31"
      ]
     },
     "execution_count": 9,
     "metadata": {},
     "output_type": "execute_result"
    }
   ],
   "source": [
    "add(x=10,y=21)"
   ]
  },
  {
   "cell_type": "code",
   "execution_count": 14,
   "id": "a054dec5",
   "metadata": {},
   "outputs": [],
   "source": [
    "addfunc=lambda *args:(x**2 for x in args)"
   ]
  },
  {
   "cell_type": "code",
   "execution_count": 16,
   "id": "2cfdee60",
   "metadata": {},
   "outputs": [
    {
     "data": {
      "text/plain": [
       "[1, 4, 9]"
      ]
     },
     "execution_count": 16,
     "metadata": {},
     "output_type": "execute_result"
    }
   ],
   "source": [
    "list(addfunc(1,2,3))"
   ]
  },
  {
   "cell_type": "code",
   "execution_count": 17,
   "id": "5f80b3e8",
   "metadata": {},
   "outputs": [],
   "source": [
    "addfunc=lambda *args:[x**2 for x in args]"
   ]
  },
  {
   "cell_type": "code",
   "execution_count": 18,
   "id": "270d60fd",
   "metadata": {},
   "outputs": [
    {
     "data": {
      "text/plain": [
       "[9, 16, 25]"
      ]
     },
     "execution_count": 18,
     "metadata": {},
     "output_type": "execute_result"
    }
   ],
   "source": [
    "addfunc(3,4,5)"
   ]
  },
  {
   "cell_type": "code",
   "execution_count": 19,
   "id": "c6f6e289",
   "metadata": {},
   "outputs": [],
   "source": [
    "addfunc=lambda *args:{x:x**2 for x in args}"
   ]
  },
  {
   "cell_type": "code",
   "execution_count": 20,
   "id": "daa23cb8",
   "metadata": {},
   "outputs": [
    {
     "data": {
      "text/plain": [
       "{1: 1, 2: 4, 3: 9, 4: 16, 5: 25}"
      ]
     },
     "execution_count": 20,
     "metadata": {},
     "output_type": "execute_result"
    }
   ],
   "source": [
    "addfunc(1,2,3,4,5,5)"
   ]
  },
  {
   "cell_type": "code",
   "execution_count": 23,
   "id": "bffd9931",
   "metadata": {},
   "outputs": [],
   "source": [
    "#Only multiply even numbers by the power 2 \n",
    "addfunc=lambda *args:{x:x**2 if x%2==0 else x for x in args}"
   ]
  },
  {
   "cell_type": "code",
   "execution_count": 24,
   "id": "9baaac75",
   "metadata": {},
   "outputs": [
    {
     "data": {
      "text/plain": [
       "{1: 1, 2: 4, 3: 3, 4: 16, 5: 5, 6: 36, 7: 7, 8: 64}"
      ]
     },
     "execution_count": 24,
     "metadata": {},
     "output_type": "execute_result"
    }
   ],
   "source": [
    "addfunc(1,2,3,4,5,6,7,7,8)"
   ]
  },
  {
   "cell_type": "code",
   "execution_count": 28,
   "id": "1c980dfa",
   "metadata": {},
   "outputs": [],
   "source": [
    "def factorial(n):\n",
    "    if n == 0:\n",
    "        return 1\n",
    "    else:\n",
    "        return n*factorial(n-1)"
   ]
  },
  {
   "cell_type": "code",
   "execution_count": 29,
   "id": "631d0315",
   "metadata": {},
   "outputs": [],
   "source": [
    "fact=lambda a:factorial(a)"
   ]
  },
  {
   "cell_type": "code",
   "execution_count": 31,
   "id": "806f9c18",
   "metadata": {},
   "outputs": [
    {
     "data": {
      "text/plain": [
       "720"
      ]
     },
     "execution_count": 31,
     "metadata": {},
     "output_type": "execute_result"
    }
   ],
   "source": [
    "fact(6)"
   ]
  },
  {
   "cell_type": "code",
   "execution_count": 35,
   "id": "44f52496",
   "metadata": {},
   "outputs": [],
   "source": [
    "oddOrEven= lambda x: \"Even\" if x%2==0 else \"Odd\" "
   ]
  },
  {
   "cell_type": "code",
   "execution_count": 36,
   "id": "59b88200",
   "metadata": {},
   "outputs": [
    {
     "data": {
      "text/plain": [
       "'Odd'"
      ]
     },
     "execution_count": 36,
     "metadata": {},
     "output_type": "execute_result"
    }
   ],
   "source": [
    "oddOrEven(11)"
   ]
  },
  {
   "cell_type": "code",
   "execution_count": null,
   "id": "d8955cf9",
   "metadata": {},
   "outputs": [],
   "source": []
  }
 ],
 "metadata": {
  "kernelspec": {
   "display_name": "virt_env_dev",
   "language": "python",
   "name": "python3"
  },
  "language_info": {
   "codemirror_mode": {
    "name": "ipython",
    "version": 3
   },
   "file_extension": ".py",
   "mimetype": "text/x-python",
   "name": "python",
   "nbconvert_exporter": "python",
   "pygments_lexer": "ipython3",
   "version": "3.11.9"
  }
 },
 "nbformat": 4,
 "nbformat_minor": 5
}
