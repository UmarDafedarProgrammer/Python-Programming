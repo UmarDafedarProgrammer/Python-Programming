{
 "cells": [
  {
   "cell_type": "markdown",
   "id": "31104dc6",
   "metadata": {},
   "source": [
    "##### Functions\n",
    "\n",
    "1. Functions are the block of codes that perform a specific task\n",
    "2. Group the statements together which can be executed at once\n",
    "3. It make the code reusable\n",
    "4. Improves Readability\n",
    "5. Organizing the code\n",
    "\n",
    "def functionName(parameters):\n",
    "    \"\"\" Document String\"\"\"\n",
    "    # Function Body\n",
    "    return values\n",
    "\n",
    "ret_values=functionaName(argument values)"
   ]
  },
  {
   "cell_type": "code",
   "execution_count": 9,
   "id": "6eaa5db9",
   "metadata": {},
   "outputs": [],
   "source": [
    "#Declare a function\n",
    "def even_or_odd(num):\n",
    "    \"\"\" This function identifies if the number provides is even or odd.\"\"\"\n",
    "    if num%2 == 0:\n",
    "        print(f\"The number {num} is even!.\")\n",
    "    else:\n",
    "        print(f\"The number {num} is odd!.\")"
   ]
  },
  {
   "cell_type": "code",
   "execution_count": 10,
   "id": "81b66071",
   "metadata": {},
   "outputs": [
    {
     "name": "stdout",
     "output_type": "stream",
     "text": [
      "The number 10 is even!.\n",
      "The number 14 is even!.\n",
      "The number 13 is odd!.\n"
     ]
    }
   ],
   "source": [
    "even_or_odd(10)\n",
    "even_or_odd(14)\n",
    "even_or_odd(13)"
   ]
  },
  {
   "cell_type": "code",
   "execution_count": 11,
   "id": "20d6b421",
   "metadata": {},
   "outputs": [
    {
     "name": "stdout",
     "output_type": "stream",
     "text": [
      " This function identifies if the number provides is even or odd.\n"
     ]
    }
   ],
   "source": [
    "# How do you access the document string\n",
    "print(even_or_odd.__doc__)"
   ]
  },
  {
   "cell_type": "code",
   "execution_count": 12,
   "id": "16a02689",
   "metadata": {},
   "outputs": [],
   "source": [
    "# Function with input arguments\n",
    "def add(num1,num2):\n",
    "    print(f\"The addition of {num1} and {num2} is {num1+num2}\")"
   ]
  },
  {
   "cell_type": "code",
   "execution_count": 15,
   "id": "2644f88c",
   "metadata": {},
   "outputs": [
    {
     "name": "stdout",
     "output_type": "stream",
     "text": [
      "The addition of 10 and 14 is 24\n"
     ]
    }
   ],
   "source": [
    "add(10,14)"
   ]
  },
  {
   "cell_type": "code",
   "execution_count": 16,
   "id": "ea1363f2",
   "metadata": {},
   "outputs": [],
   "source": [
    "# Function returning a value\n",
    "\n",
    "def multiply(num1,num2):\n",
    "    print(\"Multiplication\")\n",
    "    return num1*num2"
   ]
  },
  {
   "cell_type": "code",
   "execution_count": 17,
   "id": "66fffd67",
   "metadata": {},
   "outputs": [
    {
     "name": "stdout",
     "output_type": "stream",
     "text": [
      "Multiplication\n"
     ]
    },
    {
     "data": {
      "text/plain": [
       "441"
      ]
     },
     "execution_count": 17,
     "metadata": {},
     "output_type": "execute_result"
    }
   ],
   "source": [
    "multiply(21,21)"
   ]
  },
  {
   "cell_type": "code",
   "execution_count": 19,
   "id": "1f1c8a6f",
   "metadata": {},
   "outputs": [
    {
     "name": "stdout",
     "output_type": "stream",
     "text": [
      "Multiplication\n",
      "714\n"
     ]
    }
   ],
   "source": [
    "mul=multiply(21,34)\n",
    "print(mul)"
   ]
  },
  {
   "cell_type": "code",
   "execution_count": 20,
   "id": "9bde8cd1",
   "metadata": {},
   "outputs": [],
   "source": [
    "# Return multiple values\n",
    "def perform_arithmetic_operations(num1,num2):\n",
    "    addition=num1+num2\n",
    "    subtraction=num1-num2\n",
    "    multiplication=num1*num2\n",
    "    division=num1/num2\n",
    "    return addition,subtraction,multiplication,division"
   ]
  },
  {
   "cell_type": "code",
   "execution_count": 26,
   "id": "0e404029",
   "metadata": {},
   "outputs": [],
   "source": [
    "values = perform_arithmetic_operations(56,3)"
   ]
  },
  {
   "cell_type": "code",
   "execution_count": 29,
   "id": "6dc568d7",
   "metadata": {},
   "outputs": [],
   "source": [
    "# Function with default valeus\n",
    "def welcome_with_default(name=\"Guest\"):\n",
    "    print(f\"Welcome Aboeard Mr.{name} !!. We hope, your stay will be great!\")"
   ]
  },
  {
   "cell_type": "code",
   "execution_count": 30,
   "id": "4bb93d26",
   "metadata": {},
   "outputs": [
    {
     "name": "stdout",
     "output_type": "stream",
     "text": [
      "Welcome Aboeard Mr.Guest !!. We hope, your stay will be great!\n"
     ]
    }
   ],
   "source": [
    "welcome_with_default()"
   ]
  },
  {
   "cell_type": "code",
   "execution_count": 31,
   "id": "94106ee4",
   "metadata": {},
   "outputs": [
    {
     "name": "stdout",
     "output_type": "stream",
     "text": [
      "Welcome Aboeard Mr.Umar !!. We hope, your stay will be great!\n"
     ]
    }
   ],
   "source": [
    "welcome_with_default(\"Umar\")"
   ]
  },
  {
   "cell_type": "code",
   "execution_count": 32,
   "id": "4cd01571",
   "metadata": {},
   "outputs": [],
   "source": [
    "#### Positional argument *args\n",
    "def print_values(*args):\n",
    "    print(type(args))\n",
    "    for i in args:\n",
    "        print(i)"
   ]
  },
  {
   "cell_type": "code",
   "execution_count": 33,
   "id": "ccc1a35c",
   "metadata": {},
   "outputs": [
    {
     "name": "stdout",
     "output_type": "stream",
     "text": [
      "<class 'tuple'>\n",
      "1\n",
      "2\n",
      "3\n",
      "4\n",
      "5\n",
      "6\n",
      "7\n",
      "8\n",
      "Umar\n",
      "[12, 342]\n"
     ]
    }
   ],
   "source": [
    "print_values(1,2,3,4,5,6,7,8,\"Umar\",[12,342])"
   ]
  },
  {
   "cell_type": "code",
   "execution_count": 36,
   "id": "e0106e67",
   "metadata": {},
   "outputs": [],
   "source": [
    "#### keyword argument\n",
    "def print_values(**kwargs):\n",
    "    print(type(kwargs))\n",
    "    for key,value in kwargs.items():\n",
    "        print(f\"{key}: {value}\")"
   ]
  },
  {
   "cell_type": "code",
   "execution_count": 37,
   "id": "ce178335",
   "metadata": {},
   "outputs": [
    {
     "name": "stdout",
     "output_type": "stream",
     "text": [
      "<class 'dict'>\n",
      "name: Umar\n",
      "lastName: Dafedar\n",
      "age: 35\n"
     ]
    }
   ],
   "source": [
    "print_values(name=\"Umar\",lastName=\"Dafedar\",age=35)"
   ]
  },
  {
   "cell_type": "code",
   "execution_count": 39,
   "id": "93e6fee9",
   "metadata": {},
   "outputs": [],
   "source": [
    "# Comibnation of positional and keyword arguments\n",
    "def combo_function(*args,**kwargs):\n",
    "    for i in args:\n",
    "        print(f\"value is {i}\")\n",
    "    \n",
    "    for key,value in kwargs.items():\n",
    "        print(f\"{key}: {value}\")"
   ]
  },
  {
   "cell_type": "code",
   "execution_count": 40,
   "id": "905fec14",
   "metadata": {},
   "outputs": [
    {
     "name": "stdout",
     "output_type": "stream",
     "text": [
      "value is 1\n",
      "value is 3\n",
      "value is 2\n",
      "value is 4\n",
      "value is umar\n",
      "name: Umar\n",
      "Hobby: Coding\n"
     ]
    }
   ],
   "source": [
    "combo_function(1,3,2,4,\"umar\",name=\"Umar\",Hobby=\"Coding\")"
   ]
  },
  {
   "cell_type": "code",
   "execution_count": null,
   "id": "283cf065",
   "metadata": {},
   "outputs": [],
   "source": []
  }
 ],
 "metadata": {
  "kernelspec": {
   "display_name": "virt_env_dev",
   "language": "python",
   "name": "python3"
  },
  "language_info": {
   "codemirror_mode": {
    "name": "ipython",
    "version": 3
   },
   "file_extension": ".py",
   "mimetype": "text/x-python",
   "name": "python",
   "nbconvert_exporter": "python",
   "pygments_lexer": "ipython3",
   "version": "3.11.9"
  }
 },
 "nbformat": 4,
 "nbformat_minor": 5
}
