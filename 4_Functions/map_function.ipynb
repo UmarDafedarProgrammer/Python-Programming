{
 "cells": [
  {
   "cell_type": "markdown",
   "id": "54e425cc",
   "metadata": {},
   "source": [
    "##### map()\n",
    "\n",
    "1. Map function takes function/lambda function along with iterable item\n",
    "2. And the input function is applied to all the items of the iterable\n",
    "3. Returns a map object\n",
    "4. Need to apply list on the returned map object to get the list"
   ]
  },
  {
   "cell_type": "code",
   "execution_count": 1,
   "id": "3045c7da",
   "metadata": {},
   "outputs": [],
   "source": [
    "def simpleFunction(inp_str):\n",
    "    print(inp_str)"
   ]
  },
  {
   "cell_type": "code",
   "execution_count": 2,
   "id": "c363d53f",
   "metadata": {},
   "outputs": [],
   "source": [
    "mylist=[\"Hello\",\"Umar\",\"Dafedar\",\"King\"]"
   ]
  },
  {
   "cell_type": "code",
   "execution_count": 4,
   "id": "e75dac15",
   "metadata": {},
   "outputs": [],
   "source": [
    "map_object=map(simpleFunction,mylist)"
   ]
  },
  {
   "cell_type": "code",
   "execution_count": null,
   "id": "921e1d0a",
   "metadata": {},
   "outputs": [
    {
     "name": "stdout",
     "output_type": "stream",
     "text": [
      "Hello\n",
      "Umar\n",
      "Dafedar\n",
      "King\n"
     ]
    },
    {
     "data": {
      "text/plain": [
       "[None, None, None, None]"
      ]
     },
     "execution_count": 5,
     "metadata": {},
     "output_type": "execute_result"
    }
   ],
   "source": [
    "list(map_object)"
   ]
  },
  {
   "cell_type": "code",
   "execution_count": 6,
   "id": "32f8a0eb",
   "metadata": {},
   "outputs": [],
   "source": [
    "def square(i):\n",
    "    return i*i"
   ]
  },
  {
   "cell_type": "code",
   "execution_count": 7,
   "id": "8e55d264",
   "metadata": {},
   "outputs": [],
   "source": [
    "map_square_object = map(square, mylist)"
   ]
  },
  {
   "cell_type": "code",
   "execution_count": null,
   "id": "893a55a4",
   "metadata": {},
   "outputs": [
    {
     "data": {
      "text/plain": [
       "<map at 0x1e17b8d4df0>"
      ]
     },
     "execution_count": 9,
     "metadata": {},
     "output_type": "execute_result"
    }
   ],
   "source": [
    "map_square_object # Error is also written to the object"
   ]
  },
  {
   "cell_type": "code",
   "execution_count": null,
   "id": "f67289f9",
   "metadata": {},
   "outputs": [
    {
     "ename": "TypeError",
     "evalue": "can't multiply sequence by non-int of type 'str'",
     "output_type": "error",
     "traceback": [
      "\u001b[31m---------------------------------------------------------------------------\u001b[39m",
      "\u001b[31mTypeError\u001b[39m                                 Traceback (most recent call last)",
      "\u001b[36mCell\u001b[39m\u001b[36m \u001b[39m\u001b[32mIn[10]\u001b[39m\u001b[32m, line 1\u001b[39m\n\u001b[32m----> \u001b[39m\u001b[32m1\u001b[39m \u001b[38;5;28;43mlist\u001b[39;49m\u001b[43m(\u001b[49m\u001b[43mmap_square_object\u001b[49m\u001b[43m)\u001b[49m\n",
      "\u001b[36mCell\u001b[39m\u001b[36m \u001b[39m\u001b[32mIn[6]\u001b[39m\u001b[32m, line 2\u001b[39m, in \u001b[36msquare\u001b[39m\u001b[34m(i)\u001b[39m\n\u001b[32m      1\u001b[39m \u001b[38;5;28;01mdef\u001b[39;00m\u001b[38;5;250m \u001b[39m\u001b[34msquare\u001b[39m(i):\n\u001b[32m----> \u001b[39m\u001b[32m2\u001b[39m     \u001b[38;5;28;01mreturn\u001b[39;00m \u001b[43mi\u001b[49m\u001b[43m*\u001b[49m\u001b[43mi\u001b[49m\n",
      "\u001b[31mTypeError\u001b[39m: can't multiply sequence by non-int of type 'str'"
     ]
    }
   ],
   "source": [
    "# list(map_square_object)"
   ]
  },
  {
   "cell_type": "code",
   "execution_count": 11,
   "id": "5cb74a9f",
   "metadata": {},
   "outputs": [],
   "source": [
    "int_list=[1,2,3,4,5,6,7,8,9,10]"
   ]
  },
  {
   "cell_type": "code",
   "execution_count": null,
   "id": "43d4b919",
   "metadata": {},
   "outputs": [],
   "source": [
    "map_square_object"
   ]
  }
 ],
 "metadata": {
  "kernelspec": {
   "display_name": "virt_env_dev",
   "language": "python",
   "name": "python3"
  },
  "language_info": {
   "codemirror_mode": {
    "name": "ipython",
    "version": 3
   },
   "file_extension": ".py",
   "mimetype": "text/x-python",
   "name": "python",
   "nbconvert_exporter": "python",
   "pygments_lexer": "ipython3",
   "version": "3.11.9"
  }
 },
 "nbformat": 4,
 "nbformat_minor": 5
}
