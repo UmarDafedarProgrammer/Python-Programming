{
 "cells": [
  {
   "cell_type": "markdown",
   "id": "dfb74237",
   "metadata": {},
   "source": [
    "#### Temperature conversion"
   ]
  },
  {
   "cell_type": "code",
   "execution_count": 7,
   "id": "4e96c33d",
   "metadata": {},
   "outputs": [],
   "source": [
    "def temp_conv(temp,unit):\n",
    "    \"\"\"\n",
    "    temp_conv: Converts the input value into Farenheit or Celsius depends up on the unit provided\n",
    "               temperature and unit as an input.\n",
    "               returns the converted temperature\n",
    "    \"\"\"\n",
    "    if unit=='C':\n",
    "        return (temp-32)*5/9\n",
    "    elif unit==\"F\":\n",
    "        return (temp*9/5 + 32)\n",
    "    else:\n",
    "        return None"
   ]
  },
  {
   "cell_type": "code",
   "execution_count": 6,
   "id": "e82d5642",
   "metadata": {},
   "outputs": [
    {
     "data": {
      "text/plain": [
       "25.0"
      ]
     },
     "execution_count": 6,
     "metadata": {},
     "output_type": "execute_result"
    }
   ],
   "source": [
    "temp_conv(77,'C')"
   ]
  },
  {
   "cell_type": "code",
   "execution_count": 8,
   "id": "27379237",
   "metadata": {},
   "outputs": [
    {
     "data": {
      "text/plain": [
       "77.0"
      ]
     },
     "execution_count": 8,
     "metadata": {},
     "output_type": "execute_result"
    }
   ],
   "source": [
    "temp_conv(25,'F')"
   ]
  },
  {
   "cell_type": "code",
   "execution_count": 10,
   "id": "528c7a0e",
   "metadata": {},
   "outputs": [
    {
     "name": "stdout",
     "output_type": "stream",
     "text": [
      "\n",
      "    temp_conv: Converts the input value into Farenheit or Celsius depends up on the unit provided\n",
      "               temperature and unit as an input.\n",
      "               returns the converted temperature\n",
      "    \n"
     ]
    }
   ],
   "source": [
    "print(temp_conv.__doc__)"
   ]
  },
  {
   "cell_type": "markdown",
   "id": "0cbaeab3",
   "metadata": {},
   "source": [
    "##### Validate if the password is strong"
   ]
  },
  {
   "cell_type": "code",
   "execution_count": 20,
   "id": "26a4538b",
   "metadata": {},
   "outputs": [],
   "source": [
    "def is_password_strong(password):\n",
    "    \"\"\"\n",
    "        is_password_strong: Takes string as an input\n",
    "            Validates if the password contains atleast one digit, special character, upper case and lower case letters\n",
    "            Length of the password should be minimum 8 characters\n",
    "    \"\"\"\n",
    "    if len(password) < 8:\n",
    "        return False\n",
    "    elif not any(char.isdigit() for char in password):\n",
    "        return False\n",
    "    elif not any(char.isupper() for char in password):\n",
    "        return False\n",
    "    elif not any(char.islower() for char in password):\n",
    "        return False\n",
    "    elif not any(char in '$#%^&*@()!|~' for char in password):\n",
    "        return False\n",
    "    else:\n",
    "        return True"
   ]
  },
  {
   "cell_type": "code",
   "execution_count": 32,
   "id": "91ab1023",
   "metadata": {},
   "outputs": [
    {
     "name": "stdout",
     "output_type": "stream",
     "text": [
      "False\n",
      "False\n",
      "False\n",
      "True\n",
      "True\n"
     ]
    }
   ],
   "source": [
    "print(is_password_strong(\"Hello\"))\n",
    "print(is_password_strong(\"Hello1234\"))\n",
    "print(is_password_strong(\"HelloPa$\"))\n",
    "print(is_password_strong(\"Str0ngP@ssword\"))\n",
    "print(is_password_strong(\"Hell0P@ss\"))"
   ]
  },
  {
   "cell_type": "code",
   "execution_count": 34,
   "id": "d84bbb98",
   "metadata": {},
   "outputs": [
    {
     "name": "stdout",
     "output_type": "stream",
     "text": [
      "\n",
      "        is_password_strong: Takes string as an input\n",
      "            Validates if the password contains atleast one digit, special character, upper case and lower case letters\n",
      "            Length of the password should be minimum 8 characters\n",
      "    \n"
     ]
    }
   ],
   "source": [
    "print(is_password_strong.__doc__)"
   ]
  },
  {
   "cell_type": "markdown",
   "id": "a6936b93",
   "metadata": {},
   "source": [
    "#### Palindrome"
   ]
  },
  {
   "cell_type": "code",
   "execution_count": 60,
   "id": "583a39f0",
   "metadata": {},
   "outputs": [],
   "source": [
    "def is_palindrome(string):\n",
    "    \"\"\"\n",
    "    Check if the string palindrome\n",
    "    \"\"\"\n",
    "    string=string.strip()\n",
    "    return string==string[::-1]\n",
    "    "
   ]
  },
  {
   "cell_type": "code",
   "execution_count": 61,
   "id": "0535795f",
   "metadata": {},
   "outputs": [
    {
     "data": {
      "text/plain": [
       "True"
      ]
     },
     "execution_count": 61,
     "metadata": {},
     "output_type": "execute_result"
    }
   ],
   "source": [
    "is_palindrome(\"abcba \")"
   ]
  },
  {
   "cell_type": "code",
   "execution_count": 64,
   "id": "64775133",
   "metadata": {},
   "outputs": [
    {
     "data": {
      "text/plain": [
       "True"
      ]
     },
     "execution_count": 64,
     "metadata": {},
     "output_type": "execute_result"
    }
   ],
   "source": [
    "is_palindrome(\" abc/cba  \".strip('/ '))"
   ]
  },
  {
   "cell_type": "markdown",
   "id": "e9e4abe7",
   "metadata": {},
   "source": [
    "##### Calculate the cart value"
   ]
  },
  {
   "cell_type": "code",
   "execution_count": 75,
   "id": "8c372118",
   "metadata": {},
   "outputs": [
    {
     "name": "stdout",
     "output_type": "stream",
     "text": [
      "{'apple': 5, 'banana': 1, 'Cherry': 1, 'coconut': 2, 'watermelon': 3, 'mango': 4, 'tomato': 5}\n",
      "5\n"
     ]
    }
   ],
   "source": [
    "prices = {\"apple\":5, \"banana\":1,\"Cherry\":1,\"coconut\":2,\"watermelon\":3,\"mango\":4,\"tomato\":5}\n",
    "\n",
    "print(prices)\n",
    "print(prices[\"apple\"])"
   ]
  },
  {
   "cell_type": "code",
   "execution_count": 111,
   "id": "d7ed98d5",
   "metadata": {},
   "outputs": [],
   "source": [
    "GroceryItemsBucket = {}\n",
    "contOrStop = True\n",
    "\n",
    "def Add_items_to_the_grocery():\n",
    "\n",
    "    global contOrStop\n",
    "\n",
    "    while contOrStop:    \n",
    "        print(\"Entering the while loop\")\n",
    "        item,quantity = input(\"Please Enter the item and quantity\").split()\n",
    "        if item.lower() in prices.keys():\n",
    "            GroceryItemsBucket[item]=int(quantity)\n",
    "        else:\n",
    "            print(f\"{item} does nto exist. Please proceed with other items\")\n",
    "        user_input=input(\"Do you wanna Order\")\n",
    "        if user_input == 'no':\n",
    "            contOrStop=False\n",
    "    \n",
    "    print(GroceryItemsBucket)\n"
   ]
  },
  {
   "cell_type": "code",
   "execution_count": 117,
   "id": "5d7b6b59",
   "metadata": {},
   "outputs": [],
   "source": [
    "def calculate_the_amount():\n",
    "    global GroceryItemsBucket\n",
    "    total_amount = 0.0\n",
    "\n",
    "    for key,value in GroceryItemsBucket.items():\n",
    "        price = prices[key]\n",
    "        print(key,value,price)\n",
    "        total_amount += price*value\n",
    "    \n",
    "    return total_amount"
   ]
  },
  {
   "cell_type": "code",
   "execution_count": 114,
   "id": "d823492a",
   "metadata": {},
   "outputs": [
    {
     "name": "stdout",
     "output_type": "stream",
     "text": [
      "Entering the while loop\n",
      "Entering the while loop\n",
      "Entering the while loop\n",
      "Entering the while loop\n",
      "{'apple': 10, 'banana': 10, 'watermelon': 1, 'coconut': 1}\n"
     ]
    }
   ],
   "source": [
    "Add_items_to_the_grocery()"
   ]
  },
  {
   "cell_type": "code",
   "execution_count": 118,
   "id": "5a455b12",
   "metadata": {},
   "outputs": [
    {
     "name": "stdout",
     "output_type": "stream",
     "text": [
      "{'apple': 10, 'banana': 10, 'watermelon': 1, 'coconut': 1}\n"
     ]
    }
   ],
   "source": [
    "print(GroceryItemsBucket)"
   ]
  },
  {
   "cell_type": "code",
   "execution_count": 119,
   "id": "3fff06e8",
   "metadata": {},
   "outputs": [
    {
     "name": "stdout",
     "output_type": "stream",
     "text": [
      "apple 10 5\n",
      "banana 10 1\n",
      "watermelon 1 3\n",
      "coconut 1 2\n"
     ]
    },
    {
     "data": {
      "text/plain": [
       "65.0"
      ]
     },
     "execution_count": 119,
     "metadata": {},
     "output_type": "execute_result"
    }
   ],
   "source": [
    "calculate_the_amount()"
   ]
  },
  {
   "cell_type": "markdown",
   "id": "f9983df6",
   "metadata": {},
   "source": [
    "#### Factorial"
   ]
  },
  {
   "cell_type": "code",
   "execution_count": 120,
   "id": "7c5ad838",
   "metadata": {},
   "outputs": [],
   "source": [
    "def factorial(n):\n",
    "    if n==0:\n",
    "        return 1\n",
    "    else:\n",
    "        return n * factorial(n-1)"
   ]
  },
  {
   "cell_type": "code",
   "execution_count": 123,
   "id": "f2b7bbf7",
   "metadata": {},
   "outputs": [
    {
     "name": "stdout",
     "output_type": "stream",
     "text": [
      "720\n"
     ]
    }
   ],
   "source": [
    "print(factorial(6))"
   ]
  },
  {
   "cell_type": "markdown",
   "id": "b366f325",
   "metadata": {},
   "source": []
  }
 ],
 "metadata": {
  "kernelspec": {
   "display_name": "virt_env_dev",
   "language": "python",
   "name": "python3"
  },
  "language_info": {
   "codemirror_mode": {
    "name": "ipython",
    "version": 3
   },
   "file_extension": ".py",
   "mimetype": "text/x-python",
   "name": "python",
   "nbconvert_exporter": "python",
   "pygments_lexer": "ipython3",
   "version": "3.11.9"
  }
 },
 "nbformat": 4,
 "nbformat_minor": 5
}
