{
 "cells": [
  {
   "cell_type": "markdown",
   "id": "44229ec0",
   "metadata": {},
   "source": [
    "###### Filter function\n",
    "\n",
    "#### filter(function,iterable)\n",
    "\n",
    "1. it can take function/inbuilt function/lambda function as a function\n",
    "2. condition will be applied on the items of the list and based on the result items are filtered\n",
    "3. returns a filter object"
   ]
  },
  {
   "cell_type": "code",
   "execution_count": 1,
   "id": "51d3f1f7",
   "metadata": {},
   "outputs": [],
   "source": [
    "lst = [1,2,3,4,5,6,7,8,9,10]"
   ]
  },
  {
   "cell_type": "code",
   "execution_count": null,
   "id": "919ee36a",
   "metadata": {},
   "outputs": [],
   "source": [
    "#using lambda function as input function\n",
    "obj = filter(lambda a:a%2==0, lst)"
   ]
  },
  {
   "cell_type": "code",
   "execution_count": 3,
   "id": "7f115616",
   "metadata": {},
   "outputs": [
    {
     "data": {
      "text/plain": [
       "<filter at 0x1a68ace0730>"
      ]
     },
     "execution_count": 3,
     "metadata": {},
     "output_type": "execute_result"
    }
   ],
   "source": [
    "obj"
   ]
  },
  {
   "cell_type": "code",
   "execution_count": 4,
   "id": "c92b7ce5",
   "metadata": {},
   "outputs": [
    {
     "data": {
      "text/plain": [
       "[2, 4, 6, 8, 10]"
      ]
     },
     "execution_count": 4,
     "metadata": {},
     "output_type": "execute_result"
    }
   ],
   "source": [
    "list(obj)"
   ]
  },
  {
   "cell_type": "code",
   "execution_count": 5,
   "id": "8ab8f5a0",
   "metadata": {},
   "outputs": [],
   "source": [
    "def item_is_digit(n):\n",
    "    if str.isdigit(n):\n",
    "        return True\n",
    "    else:\n",
    "        return False"
   ]
  },
  {
   "cell_type": "code",
   "execution_count": 7,
   "id": "5582183c",
   "metadata": {},
   "outputs": [
    {
     "data": {
      "text/plain": [
       "False"
      ]
     },
     "execution_count": 7,
     "metadata": {},
     "output_type": "execute_result"
    }
   ],
   "source": [
    "item_is_digit('101Hello')"
   ]
  },
  {
   "cell_type": "code",
   "execution_count": 8,
   "id": "46f4fb10",
   "metadata": {},
   "outputs": [
    {
     "data": {
      "text/plain": [
       "True"
      ]
     },
     "execution_count": 8,
     "metadata": {},
     "output_type": "execute_result"
    }
   ],
   "source": [
    "item_is_digit(\"21\")"
   ]
  },
  {
   "cell_type": "code",
   "execution_count": 17,
   "id": "882e8592",
   "metadata": {},
   "outputs": [],
   "source": [
    "mixed_list=['Hello','123','32','45.6','True','23Umar']"
   ]
  },
  {
   "cell_type": "code",
   "execution_count": 26,
   "id": "99dd9fde",
   "metadata": {},
   "outputs": [],
   "source": [
    "filtered_digits=filter(item_is_digit,mixed_list)"
   ]
  },
  {
   "cell_type": "code",
   "execution_count": 25,
   "id": "86ac8daf",
   "metadata": {},
   "outputs": [
    {
     "data": {
      "text/plain": [
       "[]"
      ]
     },
     "execution_count": 25,
     "metadata": {},
     "output_type": "execute_result"
    }
   ],
   "source": [
    "list(filtered_digits)"
   ]
  },
  {
   "cell_type": "code",
   "execution_count": 28,
   "id": "bd607539",
   "metadata": {},
   "outputs": [],
   "source": [
    "lst1 = ['HELLO',\"umar\",'Dafedar','123',\"UMAR\"]"
   ]
  },
  {
   "cell_type": "code",
   "execution_count": 32,
   "id": "1d890254",
   "metadata": {},
   "outputs": [],
   "source": [
    "# in built functions\n",
    "upper_list=filter(str.isupper,lst1)"
   ]
  },
  {
   "cell_type": "code",
   "execution_count": 33,
   "id": "822cf898",
   "metadata": {},
   "outputs": [
    {
     "data": {
      "text/plain": [
       "<filter at 0x1a68ae3a800>"
      ]
     },
     "execution_count": 33,
     "metadata": {},
     "output_type": "execute_result"
    }
   ],
   "source": [
    "upper_list"
   ]
  },
  {
   "cell_type": "code",
   "execution_count": 34,
   "id": "f1afecc3",
   "metadata": {},
   "outputs": [
    {
     "data": {
      "text/plain": [
       "['HELLO', 'UMAR']"
      ]
     },
     "execution_count": 34,
     "metadata": {},
     "output_type": "execute_result"
    }
   ],
   "source": [
    "list(upper_list)"
   ]
  },
  {
   "cell_type": "code",
   "execution_count": null,
   "id": "424bbd05",
   "metadata": {},
   "outputs": [],
   "source": []
  }
 ],
 "metadata": {
  "kernelspec": {
   "display_name": "virt_env_dev",
   "language": "python",
   "name": "python3"
  },
  "language_info": {
   "codemirror_mode": {
    "name": "ipython",
    "version": 3
   },
   "file_extension": ".py",
   "mimetype": "text/x-python",
   "name": "python",
   "nbconvert_exporter": "python",
   "pygments_lexer": "ipython3",
   "version": "3.11.9"
  }
 },
 "nbformat": 4,
 "nbformat_minor": 5
}
